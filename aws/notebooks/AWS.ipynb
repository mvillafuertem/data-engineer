{
  "metadata" : {
    "config" : {
      "dependencies" : {
        "python" : [
          "boto3"
        ]
      },
      "exclusions" : [
      ],
      "repositories" : [
      ],
      "sparkConfig" : {
        
      },
      "env" : {
        
      }
    },
    "language_info" : {
      "name" : "python"
    }
  },
  "nbformat" : 4,
  "nbformat_minor" : 0,
  "cells" : [
    {
      "cell_type" : "markdown",
      "execution_count" : 0,
      "metadata" : {
        "language" : "text"
      },
      "language" : "text",
      "source" : [
        "# AWS\n",
        "\n",
        "\n",
        "## Diferencias entre IaaS PaaS SaaS FaaS\n",
        "\n",
        "\n",
        "Infraestructura como servicio <br>\n",
        "\n",
        "\n",
        "Plataforma como servicio<br>\n",
        "\n",
        "\n",
        "Software como servicio\n",
        "\n",
        "Función como servicio<br><br>\n",
        "\n",
        "## Elastic Compute Cloud (EC2)\n",
        "\n",
        "\n",
        "Equivalente a una máquina virtual flexible, porque puedes ajustar las características de los recursos.\n",
        "\n",
        "\n"
      ],
      "outputs" : [
      ]
    },
    {
      "cell_type" : "code",
      "execution_count" : 1,
      "metadata" : {
        "cell.metadata.exec_info" : {
          "startTs" : 1587061657611,
          "endTs" : 1587061665211
        },
        "language" : "python"
      },
      "language" : "python",
      "source" : [
        "import boto3\n",
        "import os\n",
        "from pprint import pprint as pp\n",
        "from subprocess import check_output\n",
        "\n",
        "\n",
        "client = boto3.client(\n",
        "    'ec2',\n",
        "    aws_access_key_id=os.getenv(\"ACCESS_KEY\"),\n",
        "    aws_secret_access_key=os.getenv(\"SECRET_KEY\"),\n",
        "    region_name='us-west-2'\n",
        ")\n",
        "\n",
        "response = client.describe_instances()\n",
        "\n",
        "pp(response)\n"
      ],
      "outputs" : [
        {
          "name" : "stdout",
          "text" : [
            "{'Reservations': [],\n",
            " 'ResponseMetadata': {'HTTPHeaders': {'content-length': '230',\n",
            "                                      'content-type': 'text/xml;charset=UTF-8',\n",
            "                                      'date': 'Thu, 16 Apr 2020 18:27:43 GMT',\n",
            "                                      'server': 'AmazonEC2',\n",
            "                                      'x-amzn-requestid': 'b73bb62a-65bb-4373-8b43-bdf8cb73cf12'},\n",
            "                      'HTTPStatusCode': 200,\n",
            "                      'RequestId': 'b73bb62a-65bb-4373-8b43-bdf8cb73cf12',\n",
            "                      'RetryAttempts': 0}}\n"
          ],
          "output_type" : "stream"
        }
      ]
    },
    {
      "cell_type" : "markdown",
      "execution_count" : 2,
      "metadata" : {
        "language" : "text"
      },
      "language" : "text",
      "source" : [
        "## Elastic Container Service (ECS)\n",
        "\n",
        "\n",
        "ECS is a container orchestration service\n",
        "\n",
        "ECS helps you run Docker containers on EC2 machine\n",
        "\n",
        "\n",
        "ECS is complicated and made of:\n",
        "\n",
        "\n",
        "* ECS Core: Running ECS on user-provisioned EC2 instances\n",
        "* Fargate: Running ECS tasks on AWS-provisioned computed (serverless)\n",
        "* EKS: Running ECS on AWS-powered Kubernetes (running on EC2)\n",
        "* ECR: Docker Container Registry hosted by AWS\n",
        "\n",
        "\n",
        "ECS & Docker are very popular for microservices\n",
        "\n",
        "\n",
        "IAM security and roles at the ECS task level\n",
        "\n",
        "\n",
        "### Fargate\n",
        "\n",
        "\n",
        "When launching an ECS Cluster, we have to create our EC2 instances\n",
        "\n",
        "\n",
        "If we need to scale, we need to add EC2 instances\n",
        "\n",
        "\n",
        "So we manage infrastructure...\n",
        "\n",
        "\n",
        "With Fargate, it's all Serverless\n",
        "\n",
        "\n",
        "We don't provision EC2 instances\n",
        "\n",
        "\n",
        "We just create task definitions, and AWS will run our containers for us\n",
        "\n",
        "\n",
        "To scale, just increase the task number. Simple! No more EC2\n",
        "\n",
        "\n",
        "### IAM Task Roles\n",
        "\n",
        "\n",
        "* The EC2 instance should have an IAM role allowing it to access the ECS service (for the ECS agent)\n",
        "* Each ECS task should have an ECS IAM task role to perform their API calls\n",
        "* User the \"taskRoleArn\" parameter in a task definition\n",
        "\n",
        "\n",
        "### Elastic Container Registry (ECR)\n",
        "\n",
        "\n",
        "* Store, managed and deploy your containers on AWS\n",
        "* Fully integrated with IAM & ECS\n",
        "* Sent over HTTPS (encryption in flight) and encrypted at rest\n",
        "\n",
        "\n",
        "### Setup & Config file\n",
        "\n",
        "\n",
        "Run an ECS instance, install the ECS agent with ECS config file\n",
        "\n",
        "\n",
        "Our use an ECS-ready Linux AMI (still need to modify config file)\n",
        "\n",
        "\n",
        "ECS Config file is at /etc/ecs/ecs.config\n",
        "\n",
        "\n",
        "`ECS_CLUSTER=MyCuster                 #Assign EC2 instance to an ECS cluster `\n",
        "\n",
        "\n",
        "`ECS_ENGINE_AUTH_DATA={...}           #to pull images from private registries  `\n",
        "\n",
        "\n",
        "`ECS_AVAILABLE_LOGGING_DRIVERS={...}  #CloudWatch container logging `\n",
        "\n",
        "\n",
        "`ECS_ENABLE_TASK_ROLE=true            #Enable IAM roles for ECS tasks`\n",
        "\n",
        "\n",
        "<br>"
      ],
      "outputs" : [
      ]
    },
    {
      "cell_type" : "markdown",
      "execution_count" : 3,
      "metadata" : {
        "language" : "text"
      },
      "language" : "text",
      "source" : [
        "## SQS\n",
        "\n",
        "\n",
        "Oldest offeringFully managed<br>\n",
        "\n",
        "Scales from 1 msg/s to 10.000 msg/s\n",
        "\n",
        "Default retention of messages 4 days, maximum of 14 days \n",
        "\n",
        "No limit to how many messages can be in the queue\n",
        "\n",
        "Low latency (<10ms on publish and receive)\n",
        "\n",
        "Horizontal scaling in terms of numbers of consumers\n",
        "\n",
        "Can have duplicate messages (at least once delivery, occasionally)\n",
        "\n",
        "Can have out of order messages (best effort ordering)\n",
        "\n",
        "Limitation of 256kb per message sent\n",
        "\n",
        "### Delay Queue\n",
        "\n",
        "Delay a message (consumers don't see it immediately) up to 15 minutes\n",
        "\n",
        "Default is 0 seconds (message is available right away)\n",
        "\n",
        "Can set a default at queue level\n",
        "\n",
        "Can override the default using DelaySeconds parameter\n",
        "\n",
        "### Producing Messages\n",
        "\n",
        "Define body (up to 256kb)\n",
        "\n",
        "Add message attributes (metadata - optional)\n",
        "\n",
        "Provide Delay Delivery (optional)\n",
        "\n",
        "Get back \n",
        "\n",
        "* Message identifier\n",
        "* MD5 hash of the body\n",
        "\n",
        "### Consuming Messages\n",
        "\n",
        "Poll SQS for messages (receive up to 10 messages at a time)\n",
        "\n",
        "Process the message within the visibility timeout\n",
        "\n",
        "Delete the message using the message ID & receipt handle\n",
        "\n",
        "#### Visibility timeout\n",
        "\n",
        "When a consumer polls a message from a queue, the message is 'invisible' to other consumers for a defined period.. The **VisibilityTimeout**\n",
        "\n",
        "* Set between 0 seconds and 12 hours (default 30 seconds)\n",
        "* If too high (15 minutes) and consumer fails to process the message, you must wait a long time before processing the message again\n",
        "* If too low (30 seconds) and consumer needs time to process the message (2 minutes), another consumer will receive the message and the message will be processed more than once\n",
        "\n",
        "**ChangeMessageVisibility** API to change the visibility while processing a message \n",
        "\n",
        "**DeleteMessage** API to tell SQS the message was successfully processed\n",
        "\n",
        "### Dead Letter Queue\n",
        "\n",
        "If a consumer fails to processes a message within the VisibilityTimeout... the message goes to the queue\n",
        "\n",
        "We can set a threshold of many times a message can go back to the queue - it's called a **redrive policy**\n",
        "\n",
        "After the threshold is exceeded the message goes into a dead letter queue (DLQ)\n",
        "\n",
        "We have to create a DLQ first and then designate it dead letter queue\n",
        "\n",
        "Make sure to process the messages in the DLQ before the expire\n",
        "\n"
      ],
      "outputs" : [
      ]
    },
    {
      "cell_type" : "markdown",
      "execution_count" : 4,
      "metadata" : {
        "language" : "text"
      },
      "language" : "text",
      "source" : [
        "## SNS\n",
        "\n",
        "<br>\n",
        "\n"
      ],
      "outputs" : [
      ]
    },
    {
      "cell_type" : "markdown",
      "execution_count" : 5,
      "metadata" : {
        "language" : "text"
      },
      "language" : "text",
      "source" : [
        "## S3\n",
        "\n",
        "<br>\n",
        "\n"
      ],
      "outputs" : [
      ]
    },
    {
      "cell_type" : "markdown",
      "execution_count" : 6,
      "metadata" : {
        "language" : "text"
      },
      "language" : "text",
      "source" : [
        "## Lambda\n",
        "\n",
        "\n",
        "<br>\n",
        "https://github.com/awsdocs/aws-doc-sdk-examples/blob/master/python/example_code/lambda/scheduled_lambda/scheduled_lambda.py\n",
        "\n",
        "Caso de uso con ECS\n",
        "\n",
        "<div id=\":85.ma\" class=\"Mu SP\" data-tooltip=\"15 de abril de 2020, 19:51:46 UTC+2\" style=\"font-family: Roboto, sans-serif; font-size: 13px; line-height: 16px; margin-bottom: 6px; margin-left: 9px; margin-right: 9px; transition: opacity 0.218s ease 0s; opacity: 1; overflow-wrap: break-word; word-break: break-word; outline: none; caret-color: rgb(38, 50, 56); color: rgb(38, 50, 56); text-size-adjust: auto;\">Cada 10 min por ejemplo<br></div><div id=\":84.ma\" class=\"Mu SP\" data-tooltip=\"15 de abril de 2020, 19:51:55 UTC+2\" style=\"font-family: Roboto, sans-serif; font-size: 13px; line-height: 16px; margin-bottom: 6px; margin-left: 9px; margin-right: 9px; transition: opacity 0.218s ease 0s; opacity: 1; overflow-wrap: break-word; word-break: break-word; outline: none; caret-color: rgb(38, 50, 56); color: rgb(38, 50, 56); text-size-adjust: auto;\"><div id=\":84.at\" class=\"xH\" style=\"text-align: center; outline: none;\"></div><span id=\":84.co\" class=\"tL8wMe EMoHub\" dir=\"ltr\" style=\"outline: none;\">Cuantos containers tengo pedidos&nbsp;</span>X</div><div id=\":82.ma\" class=\"Mu SP\" data-tooltip=\"15 de abril de 2020, 19:52:04 UTC+2\" style=\"font-family: Roboto, sans-serif; font-size: 13px; line-height: 16px; margin-bottom: 6px; margin-left: 9px; margin-right: 9px; transition: opacity 0.218s ease 0s; opacity: 1; overflow-wrap: break-word; word-break: break-word; outline: none; caret-color: rgb(38, 50, 56); color: rgb(38, 50, 56); text-size-adjust: auto;\"><div id=\":82.at\" class=\"xH\" style=\"text-align: center; outline: none;\"></div><span id=\":82.co\" class=\"tL8wMe EMoHub\" dir=\"ltr\" style=\"outline: none;\">Cuanto ocupa cada uno y&nbsp;</span>Pues x*y</div><div id=\":80.ma\" class=\"Mu SP\" data-tooltip=\"15 de abril de 2020, 19:52:20 UTC+2\" style=\"font-family: Roboto, sans-serif; font-size: 13px; line-height: 16px; margin-bottom: 6px; margin-left: 9px; margin-right: 9px; transition: opacity 0.218s ease 0s; opacity: 1; overflow-wrap: break-word; word-break: break-word; outline: none; caret-color: rgb(38, 50, 56); color: rgb(38, 50, 56); text-size-adjust: auto;\"><div id=\":80.at\" class=\"xH\" style=\"text-align: center; outline: none;\"></div><span id=\":80.co\" class=\"tL8wMe EMoHub\" dir=\"ltr\" style=\"outline: none;\">Necesito z máquinas&nbsp;</span></div><div id=\":80.ma\" class=\"Mu SP\" data-tooltip=\"15 de abril de 2020, 19:52:20 UTC+2\" style=\"font-family: Roboto, sans-serif; font-size: 13px; line-height: 16px; margin-bottom: 6px; margin-left: 9px; margin-right: 9px; transition: opacity 0.218s ease 0s; opacity: 1; overflow-wrap: break-word; word-break: break-word; outline: none; caret-color: rgb(38, 50, 56); color: rgb(38, 50, 56); text-size-adjust: auto;\">Asg, cuantas máquinas tengo A</div><div id=\":7x.ma\" class=\"Mu SP\" data-tooltip=\"15 de abril de 2020, 19:52:40 UTC+2\" style=\"font-family: Roboto, sans-serif; font-size: 13px; line-height: 16px; margin-bottom: 6px; margin-left: 9px; margin-right: 9px; transition: opacity 0.218s ease 0s; opacity: 1; overflow-wrap: break-word; word-break: break-word; outline: none; caret-color: rgb(38, 50, 56); color: rgb(38, 50, 56); text-size-adjust: auto;\"><div id=\":7x.at\" class=\"xH\" style=\"text-align: center; outline: none;\"></div><span id=\":7x.co\" class=\"tL8wMe EMoHub\" dir=\"ltr\" style=\"outline: none;\">Vale pues necesito c</span></div>\n"
      ],
      "outputs" : [
      ]
    },
    {
      "cell_type" : "code",
      "execution_count" : 7,
      "metadata" : {
        "jupyter.outputs_hidden" : true
      },
      "language" : "python",
      "source" : [
        "import json\n",
        "\n",
        "def lambda_handler(event, context):\n",
        "    print(\"value1\" + event['key1'])\n",
        "    print(\"value2\" + event['key2'])\n",
        "    print(\"value3\" + event['key3'])\n",
        "    # TODO implement\n",
        "    return {\n",
        "        'statusCode': 200,\n",
        "        'body': json.dumps('Hello from Lambda!')\n",
        "    }\n"
      ],
      "outputs" : [
        {
          "ename" : "java.lang.RuntimeException",
          "evalue" : "TypeError: list indices must be integers or slices, not str",
          "traceback" : [
          ],
          "output_type" : "error"
        }
      ]
    }
  ]
}