{
  "metadata" : {
    "config" : {
      "dependencies" : {
        "python" : [
          "boto3"
        ]
      },
      "exclusions" : [
      ],
      "repositories" : [
      ],
      "sparkConfig" : {
        
      },
      "env" : {
        
      }
    },
    "language_info" : {
      "name" : "python"
    }
  },
  "nbformat" : 4,
  "nbformat_minor" : 0,
  "cells" : [
    {
      "cell_type" : "markdown",
      "execution_count" : 0,
      "metadata" : {
        "language" : "text"
      },
      "language" : "text",
      "source" : [
        "# AWS\n",
        "\n",
        "\n",
        "## Diferencias entre IaaS PaaS SaaS FaaS\n",
        "\n",
        "\n",
        "Infraestructura como servicio <br>\n",
        "\n",
        "\n",
        "Plataforma como servicio<br>\n",
        "\n",
        "\n",
        "Software como servicio\n",
        "\n",
        "Función como servicio<br><br>\n",
        "\n",
        "## Elastic Compute Cloud (EC2)\n",
        "\n",
        "\n",
        "Equivalente a una máquina virtual flexible, porque puedes ajustar las características de los recursos.\n",
        "\n",
        "\n"
      ],
      "outputs" : [
      ]
    },
    {
      "cell_type" : "code",
      "execution_count" : 1,
      "metadata" : {
        "cell.metadata.exec_info" : {
          "startTs" : 1587061657611,
          "endTs" : 1587061665211
        },
        "language" : "python"
      },
      "language" : "python",
      "source" : [
        "import boto3\n",
        "import os\n",
        "from pprint import pprint as pp\n",
        "from subprocess import check_output\n",
        "\n",
        "\n",
        "client = boto3.client(\n",
        "    'ec2',\n",
        "    aws_access_key_id=os.getenv(\"ACCESS_KEY\"),\n",
        "    aws_secret_access_key=os.getenv(\"SECRET_KEY\"),\n",
        "    region_name='us-west-2'\n",
        ")\n",
        "\n",
        "response = client.describe_instances()\n",
        "\n",
        "pp(response)\n"
      ],
      "outputs" : [
        {
          "name" : "stdout",
          "text" : [
            "{'Reservations': [],\n",
            " 'ResponseMetadata': {'HTTPHeaders': {'content-length': '230',\n",
            "                                      'content-type': 'text/xml;charset=UTF-8',\n",
            "                                      'date': 'Thu, 16 Apr 2020 18:27:43 GMT',\n",
            "                                      'server': 'AmazonEC2',\n",
            "                                      'x-amzn-requestid': 'b73bb62a-65bb-4373-8b43-bdf8cb73cf12'},\n",
            "                      'HTTPStatusCode': 200,\n",
            "                      'RequestId': 'b73bb62a-65bb-4373-8b43-bdf8cb73cf12',\n",
            "                      'RetryAttempts': 0}}\n"
          ],
          "output_type" : "stream"
        }
      ]
    },
    {
      "cell_type" : "markdown",
      "execution_count" : 2,
      "metadata" : {
        "language" : "text"
      },
      "language" : "text",
      "source" : [
        "## Elastic Container Service (ECS)\n",
        "\n",
        "\n",
        "<br>\n",
        "\n"
      ],
      "outputs" : [
      ]
    },
    {
      "cell_type" : "markdown",
      "execution_count" : 3,
      "metadata" : {
        "language" : "text"
      },
      "language" : "text",
      "source" : [
        "## SNS\n",
        "\n",
        "<br>\n",
        "\n"
      ],
      "outputs" : [
      ]
    },
    {
      "cell_type" : "markdown",
      "execution_count" : 4,
      "metadata" : {
        "language" : "text"
      },
      "language" : "text",
      "source" : [
        "## S3\n",
        "\n",
        "<br>\n",
        "\n"
      ],
      "outputs" : [
      ]
    },
    {
      "cell_type" : "markdown",
      "execution_count" : 5,
      "metadata" : {
        "language" : "text"
      },
      "language" : "text",
      "source" : [
        "## Lambda\n",
        "\n",
        "\n",
        "<br>\n",
        "https://github.com/awsdocs/aws-doc-sdk-examples/blob/master/python/example_code/lambda/scheduled_lambda/scheduled_lambda.py\n",
        "\n",
        "Caso de uso con ECS\n",
        "\n",
        "<div id=\":85.ma\" class=\"Mu SP\" data-tooltip=\"15 de abril de 2020, 19:51:46 UTC+2\" style=\"font-family: Roboto, sans-serif; font-size: 13px; line-height: 16px; margin-bottom: 6px; margin-left: 9px; margin-right: 9px; transition: opacity 0.218s ease 0s; opacity: 1; overflow-wrap: break-word; word-break: break-word; outline: none; caret-color: rgb(38, 50, 56); color: rgb(38, 50, 56); text-size-adjust: auto;\">Cada 10 min por ejemplo<br></div><div id=\":84.ma\" class=\"Mu SP\" data-tooltip=\"15 de abril de 2020, 19:51:55 UTC+2\" style=\"font-family: Roboto, sans-serif; font-size: 13px; line-height: 16px; margin-bottom: 6px; margin-left: 9px; margin-right: 9px; transition: opacity 0.218s ease 0s; opacity: 1; overflow-wrap: break-word; word-break: break-word; outline: none; caret-color: rgb(38, 50, 56); color: rgb(38, 50, 56); text-size-adjust: auto;\"><div id=\":84.at\" class=\"xH\" style=\"text-align: center; outline: none;\"></div><span id=\":84.co\" class=\"tL8wMe EMoHub\" dir=\"ltr\" style=\"outline: none;\">Cuantos containers tengo pedidos&nbsp;</span>X</div><div id=\":82.ma\" class=\"Mu SP\" data-tooltip=\"15 de abril de 2020, 19:52:04 UTC+2\" style=\"font-family: Roboto, sans-serif; font-size: 13px; line-height: 16px; margin-bottom: 6px; margin-left: 9px; margin-right: 9px; transition: opacity 0.218s ease 0s; opacity: 1; overflow-wrap: break-word; word-break: break-word; outline: none; caret-color: rgb(38, 50, 56); color: rgb(38, 50, 56); text-size-adjust: auto;\"><div id=\":82.at\" class=\"xH\" style=\"text-align: center; outline: none;\"></div><span id=\":82.co\" class=\"tL8wMe EMoHub\" dir=\"ltr\" style=\"outline: none;\">Cuanto ocupa cada uno y&nbsp;</span>Pues x*y</div><div id=\":80.ma\" class=\"Mu SP\" data-tooltip=\"15 de abril de 2020, 19:52:20 UTC+2\" style=\"font-family: Roboto, sans-serif; font-size: 13px; line-height: 16px; margin-bottom: 6px; margin-left: 9px; margin-right: 9px; transition: opacity 0.218s ease 0s; opacity: 1; overflow-wrap: break-word; word-break: break-word; outline: none; caret-color: rgb(38, 50, 56); color: rgb(38, 50, 56); text-size-adjust: auto;\"><div id=\":80.at\" class=\"xH\" style=\"text-align: center; outline: none;\"></div><span id=\":80.co\" class=\"tL8wMe EMoHub\" dir=\"ltr\" style=\"outline: none;\">Necesito z máquinas&nbsp;</span></div><div id=\":80.ma\" class=\"Mu SP\" data-tooltip=\"15 de abril de 2020, 19:52:20 UTC+2\" style=\"font-family: Roboto, sans-serif; font-size: 13px; line-height: 16px; margin-bottom: 6px; margin-left: 9px; margin-right: 9px; transition: opacity 0.218s ease 0s; opacity: 1; overflow-wrap: break-word; word-break: break-word; outline: none; caret-color: rgb(38, 50, 56); color: rgb(38, 50, 56); text-size-adjust: auto;\">Asg, cuantas máquinas tengo A</div><div id=\":7x.ma\" class=\"Mu SP\" data-tooltip=\"15 de abril de 2020, 19:52:40 UTC+2\" style=\"font-family: Roboto, sans-serif; font-size: 13px; line-height: 16px; margin-bottom: 6px; margin-left: 9px; margin-right: 9px; transition: opacity 0.218s ease 0s; opacity: 1; overflow-wrap: break-word; word-break: break-word; outline: none; caret-color: rgb(38, 50, 56); color: rgb(38, 50, 56); text-size-adjust: auto;\"><div id=\":7x.at\" class=\"xH\" style=\"text-align: center; outline: none;\"></div><span id=\":7x.co\" class=\"tL8wMe EMoHub\" dir=\"ltr\" style=\"outline: none;\">Vale pues necesito c</span></div>\n"
      ],
      "outputs" : [
      ]
    },
    {
      "cell_type" : "code",
      "execution_count" : 6,
      "metadata" : {
        "jupyter.outputs_hidden" : true,
        "cell.metadata.exec_info" : {
          "startTs" : 1591164881451,
          "endTs" : 1591164891643
        },
        "language" : "python"
      },
      "language" : "python",
      "source" : [
        "import json\n",
        "\n",
        "def lambda_handler(event, context):\n",
        "    print(\"value1\" + event['key1'])\n",
        "    print(\"value2\" + event['key2'])\n",
        "    print(\"value3\" + event['key3'])\n",
        "    # TODO implement\n",
        "    return {\n",
        "        'statusCode': 200,\n",
        "        'body': json.dumps('Hello from Lambda!')\n",
        "    }\n"
      ],
      "outputs" : [
      ]
    }
  ]
}