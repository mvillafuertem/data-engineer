{
  "metadata" : {
    "config" : {
      "dependencies" : {
        "python" : [
          "boto3",
          "boto3"
        ]
      },
      "exclusions" : [
      ],
      "repositories" : [
      ],
      "sparkConfig" : {
        
      },
      "env" : {
        
      }
    },
    "language_info" : {
      "name" : "scala"
    }
  },
  "nbformat" : 4,
  "nbformat_minor" : 0,
  "cells" : [
    {
      "cell_type" : "markdown",
      "execution_count" : 0,
      "metadata" : {
        "language" : "text"
      },
      "language" : "text",
      "source" : [
        "# Boto3\n",
        "\n",
        "This is a text cell. Start editing!\n"
      ],
      "outputs" : [
      ]
    }
  ]
}