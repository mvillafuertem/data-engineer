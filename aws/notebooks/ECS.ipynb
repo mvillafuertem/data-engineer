{
  "metadata" : {
    "config" : {
      "dependencies" : {
        
      },
      "exclusions" : [
      ],
      "repositories" : [
      ],
      "env" : {
        
      }
    },
    "language_info" : {
      "name" : "python"
    }
  },
  "nbformat" : 4,
  "nbformat_minor" : 0,
  "cells" : [
    {
      "cell_type" : "markdown",
      "execution_count" : 0,
      "metadata" : {
        "language" : "text"
      },
      "language" : "text",
      "source" : [
        "# Elastic Container Service (ECS)\n",
        "\n",
        "\n",
        "ECS is a container orchestration service\n",
        "\n",
        "ECS helps you run Docker containers on EC2 machine\n",
        "\n",
        "ECS is complicated and made of:\n",
        "\n",
        "* ECS Core: Running ECS on user-provisioned EC2 instances\n",
        "* Fargate: Running ECS tasks on AWS-provisioned computed (serverless)\n",
        "* EKS: Running ECS on AWS-powered Kubernetes (running on EC2)\n",
        "* ECR: Docker Container Registry hosted by AWS\n",
        "\n",
        "ECS & Docker are very popular for microservices\n",
        "\n",
        "IAM security and roles at the ECS task level\n",
        "\n",
        "### Fargate\n",
        "\n",
        "When launching an ECS Cluster, we have to create our EC2 instances\n",
        "\n",
        "If we need to scale, we need to add EC2 instances\n",
        "\n",
        "So we manage infrastructure...\n",
        "\n",
        "With Fargate, it's all Serverless\n",
        "\n",
        "We don't provision EC2 instances\n",
        "\n",
        "We just create task definitions, and AWS will run our containers for us\n",
        "\n",
        "To scale, just increase the task number. Simple! No more EC2\n",
        "\n",
        "### IAM Task Roles\n",
        "\n",
        "* The EC2 instance should have an IAM role allowing it to access the ECS service (for the ECS agent)\n",
        "* Each ECS task should have an ECS IAM task role to perform their API calls\n",
        "* User the \"taskRoleArn\" parameter in a task definition\n",
        "\n",
        "### Elastic Container Registry (ECR)\n",
        "\n",
        "* Store, managed and deploy your containers on AWS\n",
        "* Fully integrated with IAM & ECS\n",
        "* Sent over HTTPS (encryption in flight) and encrypted at rest\n",
        "\n",
        "### Setup & Config file\n",
        "\n",
        "Run an ECS instance, install the ECS agent with ECS config file\n",
        "\n",
        "Our use an ECS-ready Linux AMI (still need to modify config file)\n",
        "\n",
        "ECS Config file is at /etc/ecs/ecs.config\n",
        "\n",
        "`ECS_CLUSTER=MyCuster                 #Assign EC2 instance to an ECS cluster `\n",
        "\n",
        "`ECS_ENGINE_AUTH_DATA={...}           #to pull images from private registries `\n",
        "\n",
        "`ECS_AVAILABLE_LOGGING_DRIVERS={...}  #CloudWatch container logging `\n",
        "\n",
        "`ECS_ENABLE_TASK_ROLE=true            #Enable IAM roles for ECS tasks`\n",
        "\n",
        "\n"
      ],
      "outputs" : [
      ]
    },
    {
      "cell_type" : "code",
      "execution_count" : 1,
      "metadata" : {
        "language" : "python"
      },
      "language" : "python",
      "source" : [
      ],
      "outputs" : [
      ]
    }
  ]
}