{
  "metadata" : {
    "config" : {
      "dependencies" : {
        "python" : [
          "boto3"
        ]
      },
      "exclusions" : [
      ],
      "repositories" : [
      ],
      "sparkConfig" : {
        
      },
      "env" : {
        
      }
    },
    "language_info" : {
      "name" : "python"
    }
  },
  "nbformat" : 4,
  "nbformat_minor" : 0,
  "cells" : [
    {
      "cell_type" : "markdown",
      "execution_count" : 0,
      "metadata" : {
        "language" : "text"
      },
      "language" : "text",
      "source" : [
        "# Simple Notification Service (SNS)\n",
        "\n",
        "\n",
        "What if you want to send one message to many receivers?\n",
        "\n",
        "The **event producer **only sends message to one SNS topic\n",
        "\n",
        "As many** event receivers (subscriptions)** as we want listen to the SNS topic notifications\n",
        "\n",
        "Each subscriber to the topic will get all the messages(note: new feature to filter messages)\n",
        "\n",
        "Up to 10.000.000 subscriptions per topic\n",
        "\n",
        "100.000 topic limit\n",
        "\n",
        "Subscribers can be:\n",
        "\n",
        "* SQS\n",
        "* HTTP / HTTPS (with delivery retries- how many times)\n",
        "* Lambda\n",
        "* Emails\n",
        "* SMS messages\n",
        "* Mobile Notifications\n",
        "\n",
        "## Integrates with a lot of Amazon Products\n",
        "\n",
        "Some services can send data directly to SNS for notifications\n",
        "\n",
        "CloudWatch (for alarms)\n",
        "\n",
        "Auto Scaling Group notifications\n",
        "\n",
        "Amazon S3 (on bucket events)\n",
        "\n",
        "CloudFormation (upon state changes => failed to build, etc)\n",
        "\n",
        "## How to publish\n",
        "\n",
        "Topic Publish (within your AWS Server - using the SDK)\n",
        "\n",
        "* Create a topic \n",
        "* Create a subscription (or many)\n",
        "* Publish to the topic\n",
        "\n",
        "Direct Publish  (for mobile apps SDK)\n",
        "\n",
        "* Create a platform application\n",
        "* Create a platform endpoint\n",
        "* Publish to the platform endpoint\n",
        "* Works with Google GCM, Apple APNS, Amazon ADM\n",
        "\n",
        "## SNS + SQS: Fan Out\n",
        "\n",
        "Push once in SNS, receive in many SQS\n",
        "\n",
        "Fully decoupled\n",
        "\n",
        "No data loss\n",
        "\n",
        "Ability to add receivers of data layer\n",
        "\n",
        "SQS allows for delayed processing\n",
        "\n",
        "SQS allows for retries of work\n",
        "\n",
        "May have many workers on one queue and one worker on the other queue\n",
        "\n",
        "\n"
      ],
      "outputs" : [
      ]
    },
    {
      "cell_type" : "markdown",
      "execution_count" : 1,
      "metadata" : {
        "language" : "text"
      },
      "language" : "text",
      "source" : [
        "## Getting topics\n",
        "\n"
      ],
      "outputs" : [
      ]
    },
    {
      "cell_type" : "code",
      "execution_count" : 2,
      "metadata" : {
        "cell.metadata.exec_info" : {
          "startTs" : 1587388894671,
          "endTs" : 1587388895546
        },
        "language" : "python"
      },
      "language" : "python",
      "source" : [
        "import boto3\n",
        "import os\n",
        "from pprint import pprint as pp\n",
        "from subprocess import check_output\n",
        "\n",
        "client = boto3.client(\n",
        "    \"sns\",\n",
        "    aws_access_key_id=\"\",\n",
        "    aws_secret_access_key=\"\",\n",
        "    region_name='us-east-2'\n",
        ")\n",
        "\n",
        "\n",
        "topics = client.list_topics()\n",
        "\n",
        "pp(topics)\n"
      ],
      "outputs" : [
        {
          "name" : "stdout",
          "text" : [
            "{'ResponseMetadata': {'HTTPHeaders': {'content-length': '378',\n",
            "                                      'content-type': 'text/xml',\n",
            "                                      'date': 'Mon, 20 Apr 2020 13:21:35 GMT',\n",
            "                                      'x-amzn-requestid': '2bf0c5a2-81f3-5c1e-918a-92b525ec9948'},\n",
            "                      'HTTPStatusCode': 200,\n",
            "                      'RequestId': '2bf0c5a2-81f3-5c1e-918a-92b525ec9948',\n",
            "                      'RetryAttempts': 0},\n",
            " 'Topics': [{'TopicArn': 'arn:aws:sns:us-east-2:652371163170:sngular-topic'}]}\n"
          ],
          "output_type" : "stream"
        }
      ]
    },
    {
      "cell_type" : "markdown",
      "execution_count" : 3,
      "metadata" : {
        "language" : "text"
      },
      "language" : "text",
      "source" : [
        "Publish\n",
        "\n",
        "\n"
      ],
      "outputs" : [
      ]
    },
    {
      "cell_type" : "code",
      "execution_count" : 4,
      "metadata" : {
        "cell.metadata.exec_info" : {
          "startTs" : 1587391486586,
          "endTs" : 1587391487375
        },
        "language" : "python"
      },
      "language" : "python",
      "source" : [
        "response = client.publish(\n",
        "    TopicArn='arn:aws:sns:us-east-2:652371163170:sngular-topic',\n",
        "    Message='Hi again! 4',\n",
        "    Subject='Hello Pepe from SNS! 4',\n",
        ")\n",
        "\n",
        "pp(response)"
      ],
      "outputs" : [
        {
          "name" : "stdout",
          "text" : [
            "{'MessageId': '411355ec-2f68-5481-9c1a-02fb8157e998',\n",
            " 'ResponseMetadata': {'HTTPHeaders': {'content-length': '294',\n",
            "                                      'content-type': 'text/xml',\n",
            "                                      'date': 'Mon, 20 Apr 2020 14:04:46 GMT',\n",
            "                                      'x-amzn-requestid': '0d049d2d-4346-585a-9687-ca3aed797543'},\n",
            "                      'HTTPStatusCode': 200,\n",
            "                      'RequestId': '0d049d2d-4346-585a-9687-ca3aed797543',\n",
            "                      'RetryAttempts': 0}}\n"
          ],
          "output_type" : "stream"
        }
      ]
    }
  ]
}