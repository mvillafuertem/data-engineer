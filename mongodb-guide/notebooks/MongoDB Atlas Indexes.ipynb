{
  "metadata" : {
    "config" : {
      "dependencies" : {
        "python" : [
          "pymongo",
          "dnspython",
          "pandas"
        ]
      },
      "exclusions" : [
      ],
      "repositories" : [
      ],
      "sparkConfig" : {
        
      },
      "env" : {
        "PRIVATE_KEY" : "d7482ad5-86d1-455b-a1d2-d94a7428c895",
        "PASSWORD" : "pepepassword"
      }
    },
    "language_info" : {
      "name" : "python"
    }
  },
  "nbformat" : 4,
  "nbformat_minor" : 0,
  "cells" : [
    {
      "cell_type" : "markdown",
      "execution_count" : 0,
      "metadata" : {
        "language" : "text"
      },
      "language" : "text",
      "source" : [
        "# MongoDB Atlas Indexes\n",
        "\n",
        "\n",
        "<br>\n",
        "\n",
        "\n"
      ],
      "outputs" : [
      ]
    },
    {
      "cell_type" : "code",
      "execution_count" : 1,
      "metadata" : {
        "jupyter.source_hidden" : true,
        "cell.metadata.exec_info" : {
          "startTs" : 1585855734398,
          "endTs" : 1585855737070
        },
        "language" : "python"
      },
      "language" : "python",
      "source" : [
        "import pymongo\n",
        "import os\n",
        "from pprint import pprint as pp\n",
        "from pymongo import MongoClient\n",
        "\n",
        "password = os.environ['PASSWORD']\n",
        "\n",
        "client = MongoClient('mongodb+srv://pepe:' + password +'@cluster0-dajh0.mongodb.net/test?retryWrites=true&w=majority')\n",
        "pp(client.server_info())"
      ],
      "outputs" : [
        {
          "name" : "stdout",
          "text" : [
            "{'$clusterTime': {'clusterTime': Timestamp(1585910982, 1),\n",
            "                  'signature': {'hash': b'\\t\\xcd\\x0b\\xa8\\xff\\xca\\x9a\\xdb'\n",
            "                                        b'\\xcc\\xde\\x91\\t\\x04]\\xb6\\x9a'\n",
            "                                        b'\\x0e\\xd9\\xbb\\xd9',\n",
            "                                'keyId': 6811077507295477762}},\n",
            " 'allocator': 'tcmalloc',\n",
            " 'bits': 64,\n",
            " 'buildEnvironment': {'cc': '/opt/mongodbtoolchain/v3/bin/gcc: gcc (GCC) 8.2.0',\n",
            "                      'ccflags': '-fno-omit-frame-pointer -fno-strict-aliasing '\n",
            "                                 '-ggdb -pthread -Wall -Wsign-compare '\n",
            "                                 '-Wno-unknown-pragmas -Winvalid-pch -Werror '\n",
            "                                 '-O2 -Wno-unused-local-typedefs '\n",
            "                                 '-Wno-unused-function '\n",
            "                                 '-Wno-deprecated-declarations '\n",
            "                                 '-Wno-unused-const-variable '\n",
            "                                 '-Wno-unused-but-set-variable '\n",
            "                                 '-Wno-missing-braces -fstack-protector-strong '\n",
            "                                 '-fno-builtin-memcmp',\n",
            "                      'cxx': '/opt/mongodbtoolchain/v3/bin/g++: g++ (GCC) '\n",
            "                             '8.2.0',\n",
            "                      'cxxflags': '-Woverloaded-virtual '\n",
            "                                  '-Wno-maybe-uninitialized '\n",
            "                                  '-fsized-deallocation -std=c++17',\n",
            "                      'distarch': 'x86_64',\n",
            "                      'distmod': 'rhel70',\n",
            "                      'linkflags': '-pthread -Wl,-z,now -rdynamic '\n",
            "                                   '-Wl,--fatal-warnings '\n",
            "                                   '-fstack-protector-strong -fuse-ld=gold '\n",
            "                                   '-Wl,--build-id -Wl,--hash-style=gnu '\n",
            "                                   '-Wl,-z,noexecstack -Wl,--warn-execstack '\n",
            "                                   '-Wl,-z,relro '\n",
            "                                   '-Wl,-rpath,/usr/lib64/perl5/CORE',\n",
            "                      'target_arch': 'x86_64',\n",
            "                      'target_os': 'linux'},\n",
            " 'debug': False,\n",
            " 'gitVersion': '2261279b51ea13df08ae708ff278f0679c59dc32',\n",
            " 'javascriptEngine': 'mozjs',\n",
            " 'maxBsonObjectSize': 16777216,\n",
            " 'modules': ['enterprise'],\n",
            " 'ok': 1.0,\n",
            " 'openssl': {'compiled': 'OpenSSL 1.0.1e-fips 11 Feb 2013',\n",
            "             'running': 'OpenSSL 1.0.1e-fips 11 Feb 2013'},\n",
            " 'operationTime': Timestamp(1585910982, 1),\n",
            " 'storageEngines': ['biggie',\n",
            "                    'devnull',\n",
            "                    'ephemeralForTest',\n",
            "                    'inMemory',\n",
            "                    'queryable_wt',\n",
            "                    'wiredTiger'],\n",
            " 'sysInfo': 'deprecated',\n",
            " 'version': '4.2.5',\n",
            " 'versionArray': [4, 2, 5, 0]}\n"
          ],
          "output_type" : "stream"
        }
      ]
    },
    {
      "cell_type" : "code",
      "execution_count" : 2,
      "metadata" : {
        "jupyter.source_hidden" : true,
        "cell.metadata.exec_info" : {
          "startTs" : 1585855737196,
          "endTs" : 1585855738349
        },
        "language" : "python"
      },
      "language" : "python",
      "source" : [
        "database_names = client.database_names()\n",
        "pp(database_names)"
      ],
      "outputs" : [
        {
          "name" : "stdout",
          "text" : [
            "['admin',\n",
            " 'config',\n",
            " 'local',\n",
            " 'sample_airbnb',\n",
            " 'sample_analytics',\n",
            " 'sample_geospatial',\n",
            " 'sample_mflix',\n",
            " 'sample_supplies',\n",
            " 'sample_training',\n",
            " 'sample_weatherdata']\n"
          ],
          "output_type" : "stream"
        }
      ]
    },
    {
      "cell_type" : "code",
      "execution_count" : 3,
      "metadata" : {
        "cell.metadata.exec_info" : {
          "startTs" : 1585914854022,
          "endTs" : 1585914854269
        },
        "language" : "python"
      },
      "language" : "python",
      "source" : [
        "db = client.sample_airbnb\n",
        "collection_names = db.collection_names()\n",
        "pp(collection_names)"
      ],
      "outputs" : [
        {
          "name" : "stdout",
          "text" : [
            "['listingsAndReviews']\n"
          ],
          "output_type" : "stream"
        }
      ]
    },
    {
      "cell_type" : "markdown",
      "execution_count" : 4,
      "metadata" : {
        "language" : "text"
      },
      "language" : "text",
      "source" : [
        "Getting index information"
      ],
      "outputs" : [
      ]
    },
    {
      "cell_type" : "code",
      "execution_count" : 5,
      "metadata" : {
        "cell.metadata.exec_info" : {
          "startTs" : 1585914855979,
          "endTs" : 1585914856101
        },
        "language" : "python"
      },
      "language" : "python",
      "source" : [
        "collection = db.listingsAndReviews\n",
        "for i in dir(collection):\n",
        "    if 'index' in i:\n",
        "        pp(i)"
      ],
      "outputs" : [
        {
          "name" : "stdout",
          "text" : [
            "'_Collection__create_index'\n",
            "'create_index'\n",
            "'create_indexes'\n",
            "'drop_index'\n",
            "'drop_indexes'\n",
            "'ensure_index'\n",
            "'index_information'\n",
            "'list_indexes'\n",
            "'reindex'\n"
          ],
          "output_type" : "stream"
        }
      ]
    },
    {
      "cell_type" : "markdown",
      "execution_count" : 6,
      "metadata" : {
        "language" : "text"
      },
      "language" : "text",
      "source" : [
        "## Index Information\n",
        "\n"
      ],
      "outputs" : [
      ]
    },
    {
      "cell_type" : "code",
      "execution_count" : 7,
      "metadata" : {
        "cell.metadata.exec_info" : {
          "startTs" : 1585915025384,
          "endTs" : 1585915025759
        },
        "language" : "python"
      },
      "language" : "python",
      "source" : [
        "\n",
        "index_information = collection.index_information()#['bedrooms_1_address.country_1']\n",
        "pp(index_information)\n"
      ],
      "outputs" : [
        {
          "name" : "stdout",
          "text" : [
            "{'_id_': {'key': [('_id', 1)],\n",
            "          'ns': 'sample_airbnb.listingsAndReviews',\n",
            "          'v': 2},\n",
            " 'address.location_2dsphere': {'2dsphereIndexVersion': 3,\n",
            "                               'background': True,\n",
            "                               'key': [('address.location', '2dsphere')],\n",
            "                               'ns': 'sample_airbnb.listingsAndReviews',\n",
            "                               'v': 2},\n",
            " 'name_1': {'background': True,\n",
            "            'key': [('name', 1)],\n",
            "            'ns': 'sample_airbnb.listingsAndReviews',\n",
            "            'v': 2},\n",
            " 'property_type_1_room_type_1_beds_1': {'background': True,\n",
            "                                        'key': [('property_type', 1),\n",
            "                                                ('room_type', 1),\n",
            "                                                ('beds', 1)],\n",
            "                                        'ns': 'sample_airbnb.listingsAndReviews',\n",
            "                                        'v': 2}}\n"
          ],
          "output_type" : "stream"
        }
      ]
    },
    {
      "cell_type" : "code",
      "execution_count" : 8,
      "metadata" : {
        "jupyter.source_hidden" : true,
        "jupyter.outputs_hidden" : true
      },
      "language" : "python",
      "source" : [
        "# iterate the dict object returned by the method call \n",
        "for key, val in index_information.items(): \n",
        "    print(key, \"--\", val)"
      ],
      "outputs" : [
        {
          "name" : "stdout",
          "text" : [
            "_id_ -- {'v': 2, 'key': [('_id', 1)], 'ns': 'sample_airbnb.listingsAndReviews'}\n",
            "property_type_1_room_type_1_beds_1 -- {'v': 2, 'key': [('property_type', 1), ('room_type', 1), ('beds', 1)], 'background': True, 'ns': 'sample_airbnb.listingsAndReviews'}\n",
            "name_1 -- {'v': 2, 'key': [('name', 1)], 'background': True, 'ns': 'sample_airbnb.listingsAndReviews'}\n",
            "address.location_2dsphere -- {'v': 2, 'key': [('address.location', '2dsphere')], 'background': True, '2dsphereIndexVersion': 3, 'ns': 'sample_airbnb.listingsAndReviews'}\n"
          ],
          "output_type" : "stream"
        }
      ]
    },
    {
      "cell_type" : "markdown",
      "execution_count" : 9,
      "metadata" : {
        "language" : "text"
      },
      "language" : "text",
      "source" : [
        "## List indexes\n",
        "\n",
        "\n"
      ],
      "outputs" : [
      ]
    },
    {
      "cell_type" : "code",
      "execution_count" : 10,
      "metadata" : {
        "jupyter.outputs_hidden" : true
      },
      "language" : "python",
      "source" : [
        "index_cursor = collection.list_indexes() \n",
        "# iterate the pymongo.command_cursor.CommandCursor object \n",
        "for index in index_cursor: \n",
        "# print the bson.son.SON object for each iteration \n",
        "    print (\"\\n\") \n",
        "    print (\"index.keys():\", index.keys()) \n",
        "    print (\"NAME:\", index[\"name\"]) # index name \n",
        "    print (\"VERSION:\", index[\"v\"]) # index version \n",
        "\n",
        "# iterate the index bson object's key-value pairs \n",
        "# using the object's items() method \n",
        "for key, val in index.items(): \n",
        "    print (key, \"--->\", val, \"-- type:\", type(val))"
      ],
      "outputs" : [
        {
          "name" : "stdout",
          "text" : [
            "\n",
            "\n",
            "index.keys(): ['v', 'key', 'name', 'ns']\n",
            "NAME: _id_\n",
            "VERSION: 2\n",
            "\n",
            "\n",
            "index.keys(): ['v', 'key', 'name', 'background', 'ns']\n",
            "NAME: property_type_1_room_type_1_beds_1\n",
            "VERSION: 2\n",
            "\n",
            "\n",
            "index.keys(): ['v', 'key', 'name', 'background', 'ns']\n",
            "NAME: name_1\n",
            "VERSION: 2\n",
            "\n",
            "\n",
            "index.keys(): ['v', 'key', 'name', 'background', '2dsphereIndexVersion', 'ns']\n",
            "NAME: address.location_2dsphere\n",
            "VERSION: 2\n",
            "v ---> 2 -- type: <class 'int'>\n",
            "key ---> SON([('address.location', '2dsphere')]) -- type: <class 'bson.son.SON'>\n",
            "name ---> address.location_2dsphere -- type: <class 'str'>\n",
            "background ---> True -- type: <class 'bool'>\n",
            "2dsphereIndexVersion ---> 3 -- type: <class 'int'>\n",
            "ns ---> sample_airbnb.listingsAndReviews -- type: <class 'str'>\n"
          ],
          "output_type" : "stream"
        }
      ]
    },
    {
      "cell_type" : "markdown",
      "execution_count" : 11,
      "metadata" : {
        "language" : "text"
      },
      "language" : "text",
      "source" : [
        "## Execution Stats\n",
        "\n",
        "\n"
      ],
      "outputs" : [
      ]
    },
    {
      "cell_type" : "code",
      "execution_count" : 12,
      "metadata" : {
        "cell.metadata.exec_info" : {
          "startTs" : 1585914879504,
          "endTs" : 1585914880492
        },
        "language" : "python"
      },
      "language" : "python",
      "source" : [
        "collection.find({})\n",
        "query = collection.find({'bedrooms': 1, 'beds' : 1, 'address.country' : 'Brazil'})\n",
        "for i in query.limit(2):\n",
        "    pp(i)"
      ],
      "outputs" : [
        {
          "name" : "stdout",
          "text" : [
            "{'_id': '10030955',\n",
            " 'access': '',\n",
            " 'accommodates': 2,\n",
            " 'address': {'country': 'Brazil',\n",
            "             'country_code': 'BR',\n",
            "             'government_area': 'Lagoa',\n",
            "             'location': {'coordinates': [-43.205047082633435,\n",
            "                                          -22.971950988341874],\n",
            "                          'is_location_exact': True,\n",
            "                          'type': 'Point'},\n",
            "             'market': 'Rio De Janeiro',\n",
            "             'street': 'Rio de Janeiro, Rio de Janeiro, Brazil',\n",
            "             'suburb': 'Lagoa'},\n",
            " 'amenities': ['TV',\n",
            "               'Cable TV',\n",
            "               'Internet',\n",
            "               'Wifi',\n",
            "               'Air conditioning',\n",
            "               'Pool',\n",
            "               'Kitchen',\n",
            "               'Free parking on premises',\n",
            "               'Doorman',\n",
            "               'Gym',\n",
            "               'Elevator',\n",
            "               'Buzzer/wireless intercom',\n",
            "               'Family/kid friendly',\n",
            "               'Washer',\n",
            "               'Essentials',\n",
            "               '24-hour check-in'],\n",
            " 'availability': {'availability_30': 28,\n",
            "                  'availability_365': 363,\n",
            "                  'availability_60': 58,\n",
            "                  'availability_90': 88},\n",
            " 'bathrooms': Decimal128('2.0'),\n",
            " 'bed_type': 'Real Bed',\n",
            " 'bedrooms': 1,\n",
            " 'beds': 1,\n",
            " 'calendar_last_scraped': datetime.datetime(2019, 2, 11, 5, 0),\n",
            " 'cancellation_policy': 'flexible',\n",
            " 'cleaning_fee': Decimal128('250.00'),\n",
            " 'description': 'Quarto com vista para a Lagoa Rodrigo de Freitas, cartão '\n",
            "                'postal do Rio de Janeiro. Linda Vista.  1 Quarto e 1 '\n",
            "                'banheiro  Amplo, arejado, vaga na garagem. Prédio com '\n",
            "                'piscina, sauna e playground.  Fácil acesso, próximo da praia '\n",
            "                'e shoppings.',\n",
            " 'extra_people': Decimal128('0.00'),\n",
            " 'guests_included': Decimal128('1'),\n",
            " 'host': {'host_about': '',\n",
            "          'host_has_profile_pic': True,\n",
            "          'host_id': '51496939',\n",
            "          'host_identity_verified': False,\n",
            "          'host_is_superhost': False,\n",
            "          'host_listings_count': 1,\n",
            "          'host_location': 'BR',\n",
            "          'host_name': 'Livia',\n",
            "          'host_neighbourhood': 'Lagoa',\n",
            "          'host_picture_url': 'https://a0.muscache.com/im/pictures/b7911710-9088-451d-a27b-62ad2fc2eac0.jpg?aki_policy=profile_x_medium',\n",
            "          'host_thumbnail_url': 'https://a0.muscache.com/im/pictures/b7911710-9088-451d-a27b-62ad2fc2eac0.jpg?aki_policy=profile_small',\n",
            "          'host_total_listings_count': 1,\n",
            "          'host_url': 'https://www.airbnb.com/users/show/51496939',\n",
            "          'host_verifications': ['email', 'phone', 'jumio', 'government_id']},\n",
            " 'house_rules': '',\n",
            " 'images': {'medium_url': '',\n",
            "            'picture_url': 'https://a0.muscache.com/im/pictures/59c516bd-c7c3-4dae-8625-aff5f55ece53.jpg?aki_policy=large',\n",
            "            'thumbnail_url': '',\n",
            "            'xl_picture_url': ''},\n",
            " 'interaction': '',\n",
            " 'last_scraped': datetime.datetime(2019, 2, 11, 5, 0),\n",
            " 'listing_url': 'https://www.airbnb.com/rooms/10030955',\n",
            " 'maximum_nights': '1125',\n",
            " 'minimum_nights': '1',\n",
            " 'name': 'Apt Linda Vista Lagoa - Rio',\n",
            " 'neighborhood_overview': '',\n",
            " 'notes': '',\n",
            " 'number_of_reviews': 0,\n",
            " 'price': Decimal128('701.00'),\n",
            " 'property_type': 'Apartment',\n",
            " 'review_scores': {},\n",
            " 'reviews': [],\n",
            " 'room_type': 'Private room',\n",
            " 'security_deposit': Decimal128('1000.00'),\n",
            " 'space': '',\n",
            " 'summary': 'Quarto com vista para a Lagoa Rodrigo de Freitas, cartão postal '\n",
            "            'do Rio de Janeiro. Linda Vista.  1 Quarto e 1 banheiro  Amplo, '\n",
            "            'arejado, vaga na garagem. Prédio com piscina, sauna e '\n",
            "            'playground.  Fácil acesso, próximo da praia e shoppings.',\n",
            " 'transit': ''}\n",
            "{'_id': '10383490',\n",
            " 'access': 'Terão acesso a todos os cômodos da casa, podem fazer suas próprias '\n",
            "           'refeições no local.',\n",
            " 'accommodates': 2,\n",
            " 'address': {'country': 'Brazil',\n",
            "             'country_code': 'BR',\n",
            "             'government_area': 'Tanque',\n",
            "             'location': {'coordinates': [-43.37035220190699,\n",
            "                                          -22.91636184358952],\n",
            "                          'is_location_exact': True,\n",
            "                          'type': 'Point'},\n",
            "             'market': 'Rio De Janeiro',\n",
            "             'street': 'Rio de Janeiro, Rio de Janeiro, Brazil',\n",
            "             'suburb': ''},\n",
            " 'amenities': ['Cable TV',\n",
            "               'Wifi',\n",
            "               'Kitchen',\n",
            "               'Smoking allowed',\n",
            "               'Elevator',\n",
            "               'Buzzer/wireless intercom',\n",
            "               'Family/kid friendly',\n",
            "               'Washer',\n",
            "               'Essentials',\n",
            "               'Lock on bedroom door',\n",
            "               '24-hour check-in',\n",
            "               'Iron',\n",
            "               'Laptop friendly workspace',\n",
            "               'translation missing: en.hosting_amenity_50'],\n",
            " 'availability': {'availability_30': 30,\n",
            "                  'availability_365': 365,\n",
            "                  'availability_60': 60,\n",
            "                  'availability_90': 90},\n",
            " 'bathrooms': Decimal128('1.0'),\n",
            " 'bed_type': 'Real Bed',\n",
            " 'bedrooms': 1,\n",
            " 'beds': 1,\n",
            " 'calendar_last_scraped': datetime.datetime(2019, 2, 11, 5, 0),\n",
            " 'cancellation_policy': 'strict_14_with_grace_period',\n",
            " 'cleaning_fee': Decimal128('120.00'),\n",
            " 'description': 'Quarto exclusivo com armário e sofá cama de casal, possui '\n",
            "                'ainda um colchão de casal. Apartamento localizado próximo a '\n",
            "                'estação do BRT - Aracy Cabral - Bairro da Taquara - '\n",
            "                'Jacarepaguá de fácil acesso aos bairros da Barra da Tijuca, '\n",
            "                'Recreio, etc. O apartamento está completamente mobiliado e '\n",
            "                'equipado com roupa de cama, de banho, utensílios de cozinha e '\n",
            "                'limpeza. Não está previsto limpeza ou troca de roupa de cama '\n",
            "                'durante a estadia dos hóspedes. Caso seja de interesse dos '\n",
            "                'mesmos, temos uma pessoa de confiança que realiza faxina por '\n",
            "                'R$120 em data e horário a combinar. O Prédio fica a 150m '\n",
            "                'centro comercial da Taquara com restaurantes, bares, '\n",
            "                'mercados, lanchonete Bobs e Subway, salão de beleza, '\n",
            "                'barbearia, padaria, farmácia, academia, petshop, caixa '\n",
            "                'eletrônico, oficina mecânica, borracharia, lojas de '\n",
            "                'vestuário, utilidades domésticas e materiais de construção, '\n",
            "                'etc. Terão acesso a todos os cômodos da casa, podem fazer '\n",
            "                'suas próprias refeições no local. Terão total interação '\n",
            "                'comigo, via (Hidden by A',\n",
            " 'extra_people': Decimal128('20.00'),\n",
            " 'first_review': datetime.datetime(2016, 5, 16, 4, 0),\n",
            " 'guests_included': Decimal128('1'),\n",
            " 'host': {'host_about': 'Carioca, profissional de marketing, maquiadora e que '\n",
            "                        'ama viajar, conhecer lugares, culturas e pessoas! ',\n",
            "          'host_has_profile_pic': True,\n",
            "          'host_id': '3026612',\n",
            "          'host_identity_verified': False,\n",
            "          'host_is_superhost': False,\n",
            "          'host_listings_count': 2,\n",
            "          'host_location': 'Rio de Janeiro, Rio de Janeiro, Brazil',\n",
            "          'host_name': 'Luana',\n",
            "          'host_neighbourhood': '',\n",
            "          'host_picture_url': 'https://a0.muscache.com/im/pictures/ef5a70f4-27ad-4377-b5c6-90483ed8ac91.jpg?aki_policy=profile_x_medium',\n",
            "          'host_response_rate': 0,\n",
            "          'host_response_time': 'a few days or more',\n",
            "          'host_thumbnail_url': 'https://a0.muscache.com/im/pictures/ef5a70f4-27ad-4377-b5c6-90483ed8ac91.jpg?aki_policy=profile_small',\n",
            "          'host_total_listings_count': 2,\n",
            "          'host_url': 'https://www.airbnb.com/users/show/3026612',\n",
            "          'host_verifications': ['email', 'phone', 'reviews', 'work_email']},\n",
            " 'house_rules': 'Eu resido no apartamento, portanto, por favor tenham cuidado.',\n",
            " 'images': {'medium_url': '',\n",
            "            'picture_url': 'https://a0.muscache.com/im/pictures/f5e96547-9b65-4b6b-a404-8824f01cc165.jpg?aki_policy=large',\n",
            "            'thumbnail_url': '',\n",
            "            'xl_picture_url': ''},\n",
            " 'interaction': 'Terão total interação comigo, via (Hidden by Airbnb) ! Passo '\n",
            "                'dicas e sugestões como e quando quiserem',\n",
            " 'last_review': datetime.datetime(2016, 5, 16, 4, 0),\n",
            " 'last_scraped': datetime.datetime(2019, 2, 11, 5, 0),\n",
            " 'listing_url': 'https://www.airbnb.com/rooms/10383490',\n",
            " 'maximum_nights': '1125',\n",
            " 'minimum_nights': '2',\n",
            " 'monthly_price': Decimal128('600.00'),\n",
            " 'name': 'Quarto Taquara - Jacarepaguá',\n",
            " 'neighborhood_overview': 'Jacarepaguá é um bairro de classe média alta e '\n",
            "                          'classe média da Zona Oeste do município do Rio de '\n",
            "                          'Janeiro, no Brasil. Localiza-se na Baixada de '\n",
            "                          'Jacarepaguá, entre o Maciço da Tijuca e a Parque '\n",
            "                          'Estadual da Pedra Branca e na beira norte das '\n",
            "                          'lagoas de Jacarepaguá e Tijuca. É atualmente o '\n",
            "                          'sexto maior bairro da cidade, passando por um forte '\n",
            "                          'processo de urbanização. O bairro ainda é um dos '\n",
            "                          'maiores e mais importantes da cidade, com um dos '\n",
            "                          'metros quadrados que mais encarecem por ano. Nele '\n",
            "                          'estão localizados o parque olímpico, o Barra Music, '\n",
            "                          'o Centro de Convenções do Rio Centro, o Estádio '\n",
            "                          'Olímpico de Hóquei, o Hospital Sarah Kubitschek, a '\n",
            "                          'HSBC Arena, o Hotel Hilton, o Hotel Ramada o Parque '\n",
            "                          'Aquático Maria Lenk, o Velódromo Municipal do Rio, '\n",
            "                          'o Parque dos Atletas, o Shopping Metropolitano e '\n",
            "                          'Vila Pan-Americana, a Vila Olímpica do Rio de '\n",
            "                          'Janeiro e o Rock in Rio. Se encontra no Bairro a '\n",
            "                          'Igreja Nossa Senhora da Penna, que pode ser vista '\n",
            "                          'de boa parte da baixada onde se encontra o Bairro. '\n",
            "                          'O fica a cerca d',\n",
            " 'notes': '',\n",
            " 'number_of_reviews': 1,\n",
            " 'price': Decimal128('101.00'),\n",
            " 'property_type': 'Apartment',\n",
            " 'review_scores': {'review_scores_accuracy': 10,\n",
            "                   'review_scores_checkin': 10,\n",
            "                   'review_scores_cleanliness': 10,\n",
            "                   'review_scores_communication': 10,\n",
            "                   'review_scores_location': 10,\n",
            "                   'review_scores_rating': 100,\n",
            "                   'review_scores_value': 10},\n",
            " 'reviews': [{'_id': '74608112',\n",
            "              'comments': '\\r\\n'\n",
            "                          'Luana é ótima anfitriã, me senti em casa. '\n",
            "                          'Compartilhamento de áreas em comum, cozinha, sala '\n",
            "                          'sem problemas. Quarto limpo com armário grande e '\n",
            "                          'espaço suficiente. E o melhor de tudo, pertinho de '\n",
            "                          'onde eu precisava ir, fui e voltei caminhando, o '\n",
            "                          'bairro estava tranquilo.\\r\\n'\n",
            "                          'Antes de ir ao Rio, nos comunicamos por celular, e '\n",
            "                          'ela pode me dar as direções de como chegar ao '\n",
            "                          'apartamento. No final, gentilmente se ofereceu para '\n",
            "                          'me apanhar no Terminal Rodoviário, a caminho de '\n",
            "                          'volta do trabalho. Achei ótimo, por não conhecer a '\n",
            "                          'malha viária urbana por lá. \\r\\n'\n",
            "                          'Conversamos muito, achei muito interessante.\\r\\n'\n",
            "                          '\\r\\n'\n",
            "                          '  ',\n",
            "              'date': datetime.datetime(2016, 5, 16, 4, 0),\n",
            "              'listing_id': '10383490',\n",
            "              'reviewer_id': '70996760',\n",
            "              'reviewer_name': 'Gioconda'}],\n",
            " 'room_type': 'Private room',\n",
            " 'security_deposit': Decimal128('128.00'),\n",
            " 'space': 'O apartamento está completamente mobiliado e equipado com roupa de '\n",
            "          'cama, de banho, utensílios de cozinha e limpeza. Não está previsto '\n",
            "          'limpeza ou troca de roupa de cama durante a estadia dos hóspedes. '\n",
            "          'Caso seja de interesse dos mesmos, temos uma pessoa de confiança '\n",
            "          'que realiza faxina por R$120 em data e horário a combinar. O Prédio '\n",
            "          'fica a 150m centro comercial da Taquara com restaurantes, bares, '\n",
            "          'mercados, lanchonete Bobs e Subway, salão de beleza, barbearia, '\n",
            "          'padaria, farmácia, academia, petshop, caixa eletrônico, oficina '\n",
            "          'mecânica, borracharia, lojas de vestuário, utilidades domésticas e '\n",
            "          'materiais de construção, etc.',\n",
            " 'summary': 'Quarto exclusivo com armário e sofá cama de casal, possui ainda '\n",
            "            'um colchão de casal. Apartamento localizado próximo a estação do '\n",
            "            'BRT - Aracy Cabral - Bairro da Taquara - Jacarepaguá de fácil '\n",
            "            'acesso aos bairros da Barra da Tijuca, Recreio, etc.',\n",
            " 'transit': '- Os hóspedes dispõem de uma vaga para automóvel no '\n",
            "            'estacionamento do Condomínio; - Acessibilidade ao ônibus que faz '\n",
            "            'integração com o metrô (10 minutos de caminhada até o ponto); - '\n",
            "            'Acessibilidade à Linha Amarela (15 minutos de carro); DISTÂNCIAS '\n",
            "            'E TEMPO DE DESLOCAMENTO (COM TRÂNSITO) - Via Parque Shopping: 10 '\n",
            "            'km de distância, 15 minutos de carro/táxi ou 20 minutos de '\n",
            "            'van/ônibus; - Barra Shopping: 15 km de distância, 25 minutos de '\n",
            "            'carro/táxi ou 30 minutos de van/ônibus; - Praia da Barra: 10 km '\n",
            "            'de distância, 25 minutos de carro/táxi ou 30 minutos de '\n",
            "            'van/ônibus; - Rio Centro: 8,6 km de distância, 20 minutos de '\n",
            "            'carro/táxi ou 30 minutos de van/ônibus; - Cidade do Rock: 15 km '\n",
            "            'de distância, 20 minutos de carro/táxi ou 30 minutos de '\n",
            "            'van/ônibus; - Estação do BRT Aracy Cabral: 200 m de distância, 3 '\n",
            "            'minutos de carro/táxi ou 20 minutos de van/ônibus; - Estação do '\n",
            "            'BRT Via Parque: 5 km de distância, 10 minutos de carro/táxi ou 10 '\n",
            "            'minutos a pé; - Estação do metrô Shopping Nova América: 14 km de '\n",
            "            'distâ',\n",
            " 'weekly_price': Decimal128('350.00')}\n"
          ],
          "output_type" : "stream"
        }
      ]
    },
    {
      "cell_type" : "code",
      "execution_count" : 13,
      "metadata" : {
        "cell.metadata.exec_info" : {
          "startTs" : 1585914881674,
          "endTs" : 1585914881999
        },
        "language" : "python"
      },
      "language" : "python",
      "source" : [
        "execution_stats = query.explain()['queryPlanner']\n",
        "pp(execution_stats)"
      ],
      "outputs" : [
        {
          "name" : "stdout",
          "text" : [
            "{'indexFilterSet': False,\n",
            " 'namespace': 'sample_airbnb.listingsAndReviews',\n",
            " 'parsedQuery': {'$and': [{'address.country': {'$eq': 'Brazil'}},\n",
            "                          {'bedrooms': {'$eq': 1}},\n",
            "                          {'beds': {'$eq': 1}}]},\n",
            " 'plannerVersion': 1,\n",
            " 'rejectedPlans': [],\n",
            " 'winningPlan': {'inputStage': {'direction': 'forward',\n",
            "                                'filter': {'$and': [{'address.country': {'$eq': 'Brazil'}},\n",
            "                                                    {'bedrooms': {'$eq': 1}},\n",
            "                                                    {'beds': {'$eq': 1}}]},\n",
            "                                'stage': 'COLLSCAN'},\n",
            "                 'limitAmount': 2,\n",
            "                 'stage': 'LIMIT'}}\n"
          ],
          "output_type" : "stream"
        }
      ]
    },
    {
      "cell_type" : "markdown",
      "execution_count" : 14,
      "metadata" : {
        "language" : "text"
      },
      "language" : "text",
      "source" : [
        "2020-04-02T19:29:01.086+0000 I COMMAND [conn1190] command sample_airbnb.listingsAndReviews command: find { find: \"listingsAndReviews\", filter: { bedrooms: 3, address: { country: \"Portugal\" } }, limit: 2, lsid: { id: UUID(\"83394815-c4e6-4152-a9d9-a92d8bbd814c\") }, $clusterTime: { clusterTime: Timestamp(1585855734, 19), signature: { hash: BinData(0, AF7BF4B36B6D32BF28E9448E2391B6BF8570BFF8), keyId: 6811077507295477762 } }, $db: \"sample_airbnb\", $readPreference: { mode: \"primary\" } } planSummary: COLLSCAN keysExamined:0 docsExamined:5555 cursorExhausted:1 numYields:44 nreturned:0 queryHash:9CDD0B83 planCacheKey:9CDD0B83 reslen:246 locks:{ ReplicationStateTransition: { acquireCount: { w: 45 } }, Global: { acquireCount: { r: 45 } }, Database: { acquireCount: { r: 45 } }, Collection: { acquireCount: { r: 45 } }, Mutex: { acquireCount: { r: 1 } } } storage:{ data: { bytesRead: 94480432, timeReadingMicros: 284341 } } protocol:op_msg 298ms<br>\n",
        "\n",
        "\n"
      ],
      "outputs" : [
      ]
    },
    {
      "cell_type" : "markdown",
      "execution_count" : 18,
      "metadata" : {
        "language" : "text"
      },
      "language" : "text",
      "source" : [
        "## Create Index\n",
        "\n"
      ],
      "outputs" : [
      ]
    },
    {
      "cell_type" : "code",
      "execution_count" : 15,
      "metadata" : {
        "cell.metadata.exec_info" : {
          "startTs" : 1585914890481,
          "endTs" : 1585914890750
        },
        "language" : "python"
      },
      "language" : "python",
      "source" : [
        "resp = collection.create_index([(\"bedrooms\", 1),(\"address.country\", 1)])\n",
        "\n",
        "print (\"index response:\", resp)"
      ],
      "outputs" : [
        {
          "name" : "stdout",
          "text" : [
            "index response: bedrooms_1_address.country_1\n"
          ],
          "output_type" : "stream"
        }
      ]
    },
    {
      "cell_type" : "code",
      "execution_count" : 16,
      "metadata" : {
        "cell.metadata.exec_info" : {
          "startTs" : 1585914929013,
          "endTs" : 1585914929428
        },
        "language" : "python"
      },
      "language" : "python",
      "source" : [
        "execution_stats = query.explain()['queryPlanner']\n",
        "pp(execution_stats)"
      ],
      "outputs" : [
        {
          "name" : "stdout",
          "text" : [
            "{'indexFilterSet': False,\n",
            " 'namespace': 'sample_airbnb.listingsAndReviews',\n",
            " 'parsedQuery': {'$and': [{'address.country': {'$eq': 'Brazil'}},\n",
            "                          {'bedrooms': {'$eq': 1}},\n",
            "                          {'beds': {'$eq': 1}}]},\n",
            " 'plannerVersion': 1,\n",
            " 'rejectedPlans': [],\n",
            " 'winningPlan': {'inputStage': {'filter': {'beds': {'$eq': 1}},\n",
            "                                'inputStage': {'direction': 'forward',\n",
            "                                               'indexBounds': {'address.country': ['[\"Brazil\", '\n",
            "                                                                                   '\"Brazil\"]'],\n",
            "                                                               'bedrooms': ['[1, '\n",
            "                                                                            '1]']},\n",
            "                                               'indexName': 'bedrooms_1_address.country_1',\n",
            "                                               'indexVersion': 2,\n",
            "                                               'isMultiKey': False,\n",
            "                                               'isPartial': False,\n",
            "                                               'isSparse': False,\n",
            "                                               'isUnique': False,\n",
            "                                               'keyPattern': {'address.country': 1,\n",
            "                                                              'bedrooms': 1},\n",
            "                                               'multiKeyPaths': {'address.country': [],\n",
            "                                                                 'bedrooms': []},\n",
            "                                               'stage': 'IXSCAN'},\n",
            "                                'stage': 'FETCH'},\n",
            "                 'limitAmount': 2,\n",
            "                 'stage': 'LIMIT'}}\n"
          ],
          "output_type" : "stream"
        }
      ]
    },
    {
      "cell_type" : "code",
      "execution_count" : 17,
      "metadata" : {
        "cell.metadata.exec_info" : {
          "startTs" : 1585914965148,
          "endTs" : 1585914965570
        },
        "language" : "python"
      },
      "language" : "python",
      "source" : [
        "execution_stats = collection.find({'bedrooms': 1}).explain()['queryPlanner']\n",
        "pp(execution_stats)"
      ],
      "outputs" : [
        {
          "name" : "stdout",
          "text" : [
            "{'indexFilterSet': False,\n",
            " 'namespace': 'sample_airbnb.listingsAndReviews',\n",
            " 'parsedQuery': {'bedrooms': {'$eq': 1}},\n",
            " 'plannerVersion': 1,\n",
            " 'rejectedPlans': [],\n",
            " 'winningPlan': {'inputStage': {'direction': 'forward',\n",
            "                                'indexBounds': {'address.country': ['[MinKey, '\n",
            "                                                                    'MaxKey]'],\n",
            "                                                'bedrooms': ['[1, 1]']},\n",
            "                                'indexName': 'bedrooms_1_address.country_1',\n",
            "                                'indexVersion': 2,\n",
            "                                'isMultiKey': False,\n",
            "                                'isPartial': False,\n",
            "                                'isSparse': False,\n",
            "                                'isUnique': False,\n",
            "                                'keyPattern': {'address.country': 1,\n",
            "                                               'bedrooms': 1},\n",
            "                                'multiKeyPaths': {'address.country': [],\n",
            "                                                  'bedrooms': []},\n",
            "                                'stage': 'IXSCAN'},\n",
            "                 'stage': 'FETCH'}}\n"
          ],
          "output_type" : "stream"
        }
      ]
    },
    {
      "cell_type" : "markdown",
      "execution_count" : 19,
      "metadata" : {
        "language" : "text"
      },
      "language" : "text",
      "source" : [
        "## Drop Index\n",
        "\n"
      ],
      "outputs" : [
      ]
    },
    {
      "cell_type" : "code",
      "execution_count" : 20,
      "metadata" : {
        "cell.metadata.exec_info" : {
          "startTs" : 1585915009796,
          "endTs" : 1585915009980
        },
        "language" : "python"
      },
      "language" : "python",
      "source" : [
        "result = collection.drop_index(\"bedrooms_1_address.country_1\")\n",
        "pp(result)"
      ],
      "outputs" : [
        {
          "name" : "stdout",
          "text" : [
            "None\n"
          ],
          "output_type" : "stream"
        }
      ]
    }
  ]
}