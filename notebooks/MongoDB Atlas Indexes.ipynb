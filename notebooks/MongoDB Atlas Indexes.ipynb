{
  "metadata" : {
    "config" : {
      "dependencies" : {
        "python" : [
          "pymongo",
          "dnspython",
          "pandas"
        ]
      },
      "exclusions" : [
      ],
      "repositories" : [
      ],
      "sparkConfig" : {
        
      },
      "env" : {
        "PRIVATE_KEY" : "d7482ad5-86d1-455b-a1d2-d94a7428c895",
        "PASSWORD" : "pepepassword"
      }
    },
    "language_info" : {
      "name" : "python"
    }
  },
  "nbformat" : 4,
  "nbformat_minor" : 0,
  "cells" : [
    {
      "cell_type" : "markdown",
      "execution_count" : 0,
      "metadata" : {
        "language" : "text"
      },
      "language" : "text",
      "source" : [
        "# MongoDB Atlas Indexes\n",
        "\n",
        "\n",
        "<br>\n",
        "\n",
        "\n"
      ],
      "outputs" : [
      ]
    },
    {
      "cell_type" : "code",
      "execution_count" : 1,
      "metadata" : {
        "jupyter.source_hidden" : true,
        "cell.metadata.exec_info" : {
          "startTs" : 1585834745169,
          "endTs" : 1585834755275
        },
        "language" : "python"
      },
      "language" : "python",
      "source" : [
        "import pymongo\n",
        "import os\n",
        "from pymongo import MongoClient\n",
        "\n",
        "password = os.environ['PASSWORD']\n",
        "\n",
        "client = MongoClient('mongodb+srv://pepe:' + password +'@cluster0-dajh0.mongodb.net/test?retryWrites=true&w=majority')\n",
        "server_info = client.server_info()"
      ],
      "outputs" : [
      ]
    },
    {
      "cell_type" : "code",
      "execution_count" : 2,
      "metadata" : {
        "cell.metadata.exec_info" : {
          "startTs" : 1585834755356,
          "endTs" : 1585834756383
        },
        "language" : "python"
      },
      "language" : "python",
      "source" : [
        "import pandas\n",
        "\n",
        "database_names = client.database_names()\n",
        "df = pandas.DataFrame(database_names, columns=['Database Names'])\n",
        "print(df)"
      ],
      "outputs" : [
        {
          "name" : "stdout",
          "text" : [
            "       Database Names\n",
            "0               admin\n",
            "1              config\n",
            "2               local\n",
            "3       sample_airbnb\n",
            "4    sample_analytics\n",
            "5   sample_geospatial\n",
            "6        sample_mflix\n",
            "7     sample_supplies\n",
            "8     sample_training\n",
            "9  sample_weatherdata\n"
          ],
          "output_type" : "stream"
        }
      ]
    },
    {
      "cell_type" : "code",
      "execution_count" : 3,
      "metadata" : {
        "cell.metadata.exec_info" : {
          "startTs" : 1585837505338,
          "endTs" : 1585837506672
        },
        "language" : "python"
      },
      "language" : "python",
      "source" : [
        "db = client.sample_airbnb\n",
        "collection_names = db.collection_names()\n",
        "df = pandas.DataFrame(collection_names, columns=['Collection Names'])\n",
        "print(df)"
      ],
      "outputs" : [
        {
          "name" : "stdout",
          "text" : [
            "     Collection Names\n",
            "0  listingsAndReviews\n"
          ],
          "output_type" : "stream"
        }
      ]
    },
    {
      "cell_type" : "markdown",
      "execution_count" : 4,
      "metadata" : {
        "language" : "text"
      },
      "language" : "text",
      "source" : [
        "Getting index information"
      ],
      "outputs" : [
      ]
    },
    {
      "cell_type" : "code",
      "execution_count" : 5,
      "metadata" : {
        "cell.metadata.exec_info" : {
          "startTs" : 1585837891351,
          "endTs" : 1585837891567
        },
        "language" : "python"
      },
      "language" : "python",
      "source" : [
        "import pprint\n",
        "\n",
        "collection = db.listingsAndReviews\n",
        "for i in dir(collection):\n",
        "    if 'index' in i:\n",
        "        print(i)"
      ],
      "outputs" : [
        {
          "name" : "stdout",
          "text" : [
            "_Collection__create_index\n",
            "create_index\n",
            "create_indexes\n",
            "drop_index\n",
            "drop_indexes\n",
            "ensure_index\n",
            "index_information\n",
            "list_indexes\n",
            "reindex\n"
          ],
          "output_type" : "stream"
        }
      ]
    },
    {
      "cell_type" : "markdown",
      "execution_count" : 6,
      "metadata" : {
        "language" : "text"
      },
      "language" : "text",
      "source" : [
        "## Index Information\n",
        "\n"
      ],
      "outputs" : [
      ]
    },
    {
      "cell_type" : "code",
      "execution_count" : 7,
      "metadata" : {
        "jupyter.source_hidden" : true,
        "jupyter.outputs_hidden" : true
      },
      "language" : "python",
      "source" : [
        "\n",
        "index_information = collection.index_information()\n",
        "pprint.pprint(index_information)\n"
      ],
      "outputs" : [
        {
          "name" : "stdout",
          "text" : [
            "{'_id_': {'key': [('_id', 1)],\n",
            "          'ns': 'sample_airbnb.listingsAndReviews',\n",
            "          'v': 2},\n",
            " 'address.location_2dsphere': {'2dsphereIndexVersion': 3,\n",
            "                               'background': True,\n",
            "                               'key': [('address.location', '2dsphere')],\n",
            "                               'ns': 'sample_airbnb.listingsAndReviews',\n",
            "                               'v': 2},\n",
            " 'name_1': {'background': True,\n",
            "            'key': [('name', 1)],\n",
            "            'ns': 'sample_airbnb.listingsAndReviews',\n",
            "            'v': 2},\n",
            " 'property_type_1_room_type_1_beds_1': {'background': True,\n",
            "                                        'key': [('property_type', 1),\n",
            "                                                ('room_type', 1),\n",
            "                                                ('beds', 1)],\n",
            "                                        'ns': 'sample_airbnb.listingsAndReviews',\n",
            "                                        'v': 2}}\n"
          ],
          "output_type" : "stream"
        }
      ]
    },
    {
      "cell_type" : "code",
      "execution_count" : 8,
      "metadata" : {
        "jupyter.source_hidden" : true,
        "jupyter.outputs_hidden" : true
      },
      "language" : "python",
      "source" : [
        "# iterate the dict object returned by the method call \n",
        "for key, val in index_information.items(): \n",
        "    print(key, \"--\", val)"
      ],
      "outputs" : [
        {
          "name" : "stdout",
          "text" : [
            "_id_ -- {'v': 2, 'key': [('_id', 1)], 'ns': 'sample_airbnb.listingsAndReviews'}\n",
            "property_type_1_room_type_1_beds_1 -- {'v': 2, 'key': [('property_type', 1), ('room_type', 1), ('beds', 1)], 'background': True, 'ns': 'sample_airbnb.listingsAndReviews'}\n",
            "name_1 -- {'v': 2, 'key': [('name', 1)], 'ns': 'sample_airbnb.listingsAndReviews', 'background': True}\n",
            "address.location_2dsphere -- {'v': 2, 'key': [('address.location', '2dsphere')], 'ns': 'sample_airbnb.listingsAndReviews', 'background': True, '2dsphereIndexVersion': 3}\n"
          ],
          "output_type" : "stream"
        }
      ]
    },
    {
      "cell_type" : "markdown",
      "execution_count" : 9,
      "metadata" : {
        "language" : "text"
      },
      "language" : "text",
      "source" : [
        "## List indexes\n",
        "\n",
        "\n"
      ],
      "outputs" : [
      ]
    },
    {
      "cell_type" : "code",
      "execution_count" : 10,
      "metadata" : {
        "jupyter.outputs_hidden" : true
      },
      "language" : "python",
      "source" : [
        "index_cursor = collection.list_indexes() \n",
        "# iterate the pymongo.command_cursor.CommandCursor object \n",
        "for index in index_cursor: \n",
        "# print the bson.son.SON object for each iteration \n",
        "    print (\"\\n\") \n",
        "    print (\"index.keys():\", index.keys()) \n",
        "    print (\"NAME:\", index[\"name\"]) # index name \n",
        "    print (\"VERSION:\", index[\"v\"]) # index version \n",
        "\n",
        "# iterate the index bson object's key-value pairs \n",
        "# using the object's items() method \n",
        "for key, val in index.items(): \n",
        "    print (key, \"--->\", val, \"-- type:\", type(val))"
      ],
      "outputs" : [
        {
          "name" : "stdout",
          "text" : [
            "\n",
            "\n",
            "index.keys(): ['v', 'key', 'name', 'ns']\n",
            "NAME: _id_\n",
            "VERSION: 2\n",
            "\n",
            "\n",
            "index.keys(): ['v', 'key', 'name', 'background', 'ns']\n",
            "NAME: property_type_1_room_type_1_beds_1\n",
            "VERSION: 2\n",
            "\n",
            "\n",
            "index.keys(): ['v', 'key', 'name', 'ns', 'background']\n",
            "NAME: name_1\n",
            "VERSION: 2\n",
            "\n",
            "\n",
            "index.keys(): ['v', 'key', 'name', 'ns', 'background', '2dsphereIndexVersion']\n",
            "NAME: address.location_2dsphere\n",
            "VERSION: 2\n",
            "v ---> 2 -- type: <class 'int'>\n",
            "key ---> SON([('address.location', '2dsphere')]) -- type: <class 'bson.son.SON'>\n",
            "name ---> address.location_2dsphere -- type: <class 'str'>\n",
            "ns ---> sample_airbnb.listingsAndReviews -- type: <class 'str'>\n",
            "background ---> True -- type: <class 'bool'>\n",
            "2dsphereIndexVersion ---> 3 -- type: <class 'int'>\n"
          ],
          "output_type" : "stream"
        }
      ]
    },
    {
      "cell_type" : "markdown",
      "execution_count" : 11,
      "metadata" : {
        "language" : "text"
      },
      "language" : "text",
      "source" : [
        "## Execution Stats\n",
        "\n",
        "\n"
      ],
      "outputs" : [
      ]
    },
    {
      "cell_type" : "code",
      "execution_count" : 12,
      "metadata" : {
        "cell.metadata.exec_info" : {
          "startTs" : 1585841640930,
          "endTs" : 1585841648461
        },
        "language" : "python"
      },
      "language" : "python",
      "source" : [
        "for i in collection.find({'bedrooms': 3, 'address': {'country' : 'Portugal'}}).limit(2):\n",
        "    pprint.pprint(i)"
      ],
      "outputs" : [
        {
          "ename" : "java.lang.RuntimeException",
          "evalue" : "NameError: name 'collection' is not defined",
          "traceback" : [
          ],
          "output_type" : "error"
        }
      ]
    },
    {
      "cell_type" : "code",
      "execution_count" : 13,
      "metadata" : {
        "cell.metadata.exec_info" : {
          "startTs" : 1585839028395,
          "endTs" : 1585839028837
        },
        "language" : "python"
      },
      "language" : "python",
      "source" : [
        "execution_stats = collection.find().explain()['executionStats']\n",
        "pprint.pprint(execution_stats)"
      ],
      "outputs" : [
        {
          "name" : "stdout",
          "text" : [
            "{'allPlansExecution': [],\n",
            " 'executionStages': {'advanced': 5555,\n",
            "                     'direction': 'forward',\n",
            "                     'docsExamined': 5555,\n",
            "                     'executionTimeMillisEstimate': 0,\n",
            "                     'isEOF': 1,\n",
            "                     'nReturned': 5555,\n",
            "                     'needTime': 1,\n",
            "                     'needYield': 0,\n",
            "                     'restoreState': 43,\n",
            "                     'saveState': 43,\n",
            "                     'stage': 'COLLSCAN',\n",
            "                     'works': 5557},\n",
            " 'executionSuccess': True,\n",
            " 'executionTimeMillis': 2,\n",
            " 'nReturned': 5555,\n",
            " 'totalDocsExamined': 5555,\n",
            " 'totalKeysExamined': 0}\n"
          ],
          "output_type" : "stream"
        }
      ]
    }
  ]
}