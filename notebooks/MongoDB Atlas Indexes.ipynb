{
  "metadata" : {
    "config" : {
      "dependencies" : {
        "python" : [
          "pymongo",
          "dnspython",
          "pandas"
        ]
      },
      "exclusions" : [
      ],
      "repositories" : [
      ],
      "sparkConfig" : {
        
      },
      "env" : {
        "PRIVATE_KEY" : "d7482ad5-86d1-455b-a1d2-d94a7428c895",
        "PASSWORD" : "pepepassword"
      }
    },
    "language_info" : {
      "name" : "python"
    }
  },
  "nbformat" : 4,
  "nbformat_minor" : 0,
  "cells" : [
    {
      "cell_type" : "markdown",
      "execution_count" : 0,
      "metadata" : {
        "language" : "text"
      },
      "language" : "text",
      "source" : [
        "# MongoDB Atlas Indexes\n",
        "\n",
        "\n",
        "<br>\n",
        "\n",
        "\n"
      ],
      "outputs" : [
      ]
    },
    {
      "cell_type" : "code",
      "execution_count" : 1,
      "metadata" : {
        "jupyter.source_hidden" : true,
        "cell.metadata.exec_info" : {
          "startTs" : 1585855734398,
          "endTs" : 1585855737070
        },
        "language" : "python"
      },
      "language" : "python",
      "source" : [
        "import pymongo\n",
        "import os\n",
        "from pymongo import MongoClient\n",
        "\n",
        "password = os.environ['PASSWORD']\n",
        "\n",
        "client = MongoClient('mongodb+srv://pepe:' + password +'@cluster0-dajh0.mongodb.net/test?retryWrites=true&w=majority')\n",
        "server_info = client.server_info()"
      ],
      "outputs" : [
      ]
    },
    {
      "cell_type" : "code",
      "execution_count" : 2,
      "metadata" : {
        "cell.metadata.exec_info" : {
          "startTs" : 1585855737196,
          "endTs" : 1585855738349
        },
        "language" : "python"
      },
      "language" : "python",
      "source" : [
        "import pandas\n",
        "\n",
        "database_names = client.database_names()\n",
        "df = pandas.DataFrame(database_names, columns=['Database Names'])\n",
        "print(df)"
      ],
      "outputs" : [
        {
          "name" : "stdout",
          "text" : [
            "       Database Names\n",
            "0               admin\n",
            "1              config\n",
            "2               local\n",
            "3       sample_airbnb\n",
            "4    sample_analytics\n",
            "5   sample_geospatial\n",
            "6        sample_mflix\n",
            "7     sample_supplies\n",
            "8     sample_training\n",
            "9  sample_weatherdata\n"
          ],
          "output_type" : "stream"
        }
      ]
    },
    {
      "cell_type" : "code",
      "execution_count" : 3,
      "metadata" : {
        "cell.metadata.exec_info" : {
          "startTs" : 1585855738372,
          "endTs" : 1585855738917
        },
        "language" : "python"
      },
      "language" : "python",
      "source" : [
        "db = client.sample_airbnb\n",
        "collection_names = db.collection_names()\n",
        "df = pandas.DataFrame(collection_names, columns=['Collection Names'])\n",
        "print(df)"
      ],
      "outputs" : [
        {
          "name" : "stdout",
          "text" : [
            "     Collection Names\n",
            "0  listingsAndReviews\n"
          ],
          "output_type" : "stream"
        }
      ]
    },
    {
      "cell_type" : "markdown",
      "execution_count" : 4,
      "metadata" : {
        "language" : "text"
      },
      "language" : "text",
      "source" : [
        "Getting index information"
      ],
      "outputs" : [
      ]
    },
    {
      "cell_type" : "code",
      "execution_count" : 5,
      "metadata" : {
        "cell.metadata.exec_info" : {
          "startTs" : 1585855738926,
          "endTs" : 1585855739241
        },
        "language" : "python"
      },
      "language" : "python",
      "source" : [
        "import pprint\n",
        "\n",
        "collection = db.listingsAndReviews\n",
        "for i in dir(collection):\n",
        "    if 'index' in i:\n",
        "        print(i)"
      ],
      "outputs" : [
        {
          "name" : "stdout",
          "text" : [
            "_Collection__create_index\n",
            "create_index\n",
            "create_indexes\n",
            "drop_index\n",
            "drop_indexes\n",
            "ensure_index\n",
            "index_information\n",
            "list_indexes\n",
            "reindex\n"
          ],
          "output_type" : "stream"
        }
      ]
    },
    {
      "cell_type" : "markdown",
      "execution_count" : 6,
      "metadata" : {
        "language" : "text"
      },
      "language" : "text",
      "source" : [
        "## Index Information\n",
        "\n"
      ],
      "outputs" : [
      ]
    },
    {
      "cell_type" : "code",
      "execution_count" : 7,
      "metadata" : {
        "jupyter.source_hidden" : true,
        "jupyter.outputs_hidden" : true
      },
      "language" : "python",
      "source" : [
        "\n",
        "index_information = collection.index_information()\n",
        "pprint.pprint(index_information)\n"
      ],
      "outputs" : [
        {
          "name" : "stdout",
          "text" : [
            "{'_id_': {'key': [('_id', 1)],\n",
            "          'ns': 'sample_airbnb.listingsAndReviews',\n",
            "          'v': 2},\n",
            " 'address.location_2dsphere': {'2dsphereIndexVersion': 3,\n",
            "                               'background': True,\n",
            "                               'key': [('address.location', '2dsphere')],\n",
            "                               'ns': 'sample_airbnb.listingsAndReviews',\n",
            "                               'v': 2},\n",
            " 'name_1': {'background': True,\n",
            "            'key': [('name', 1)],\n",
            "            'ns': 'sample_airbnb.listingsAndReviews',\n",
            "            'v': 2},\n",
            " 'property_type_1_room_type_1_beds_1': {'background': True,\n",
            "                                        'key': [('property_type', 1),\n",
            "                                                ('room_type', 1),\n",
            "                                                ('beds', 1)],\n",
            "                                        'ns': 'sample_airbnb.listingsAndReviews',\n",
            "                                        'v': 2}}\n"
          ],
          "output_type" : "stream"
        }
      ]
    },
    {
      "cell_type" : "code",
      "execution_count" : 8,
      "metadata" : {
        "jupyter.source_hidden" : true,
        "jupyter.outputs_hidden" : true
      },
      "language" : "python",
      "source" : [
        "# iterate the dict object returned by the method call \n",
        "for key, val in index_information.items(): \n",
        "    print(key, \"--\", val)"
      ],
      "outputs" : [
        {
          "name" : "stdout",
          "text" : [
            "_id_ -- {'v': 2, 'key': [('_id', 1)], 'ns': 'sample_airbnb.listingsAndReviews'}\n",
            "property_type_1_room_type_1_beds_1 -- {'v': 2, 'key': [('property_type', 1), ('room_type', 1), ('beds', 1)], 'background': True, 'ns': 'sample_airbnb.listingsAndReviews'}\n",
            "name_1 -- {'v': 2, 'key': [('name', 1)], 'background': True, 'ns': 'sample_airbnb.listingsAndReviews'}\n",
            "address.location_2dsphere -- {'v': 2, 'key': [('address.location', '2dsphere')], 'background': True, '2dsphereIndexVersion': 3, 'ns': 'sample_airbnb.listingsAndReviews'}\n"
          ],
          "output_type" : "stream"
        }
      ]
    },
    {
      "cell_type" : "markdown",
      "execution_count" : 9,
      "metadata" : {
        "language" : "text"
      },
      "language" : "text",
      "source" : [
        "## List indexes\n",
        "\n",
        "\n"
      ],
      "outputs" : [
      ]
    },
    {
      "cell_type" : "code",
      "execution_count" : 10,
      "metadata" : {
        "jupyter.outputs_hidden" : true
      },
      "language" : "python",
      "source" : [
        "index_cursor = collection.list_indexes() \n",
        "# iterate the pymongo.command_cursor.CommandCursor object \n",
        "for index in index_cursor: \n",
        "# print the bson.son.SON object for each iteration \n",
        "    print (\"\\n\") \n",
        "    print (\"index.keys():\", index.keys()) \n",
        "    print (\"NAME:\", index[\"name\"]) # index name \n",
        "    print (\"VERSION:\", index[\"v\"]) # index version \n",
        "\n",
        "# iterate the index bson object's key-value pairs \n",
        "# using the object's items() method \n",
        "for key, val in index.items(): \n",
        "    print (key, \"--->\", val, \"-- type:\", type(val))"
      ],
      "outputs" : [
        {
          "name" : "stdout",
          "text" : [
            "\n",
            "\n",
            "index.keys(): ['v', 'key', 'name', 'ns']\n",
            "NAME: _id_\n",
            "VERSION: 2\n",
            "\n",
            "\n",
            "index.keys(): ['v', 'key', 'name', 'background', 'ns']\n",
            "NAME: property_type_1_room_type_1_beds_1\n",
            "VERSION: 2\n",
            "\n",
            "\n",
            "index.keys(): ['v', 'key', 'name', 'background', 'ns']\n",
            "NAME: name_1\n",
            "VERSION: 2\n",
            "\n",
            "\n",
            "index.keys(): ['v', 'key', 'name', 'background', '2dsphereIndexVersion', 'ns']\n",
            "NAME: address.location_2dsphere\n",
            "VERSION: 2\n",
            "v ---> 2 -- type: <class 'int'>\n",
            "key ---> SON([('address.location', '2dsphere')]) -- type: <class 'bson.son.SON'>\n",
            "name ---> address.location_2dsphere -- type: <class 'str'>\n",
            "background ---> True -- type: <class 'bool'>\n",
            "2dsphereIndexVersion ---> 3 -- type: <class 'int'>\n",
            "ns ---> sample_airbnb.listingsAndReviews -- type: <class 'str'>\n"
          ],
          "output_type" : "stream"
        }
      ]
    },
    {
      "cell_type" : "markdown",
      "execution_count" : 11,
      "metadata" : {
        "language" : "text"
      },
      "language" : "text",
      "source" : [
        "## Execution Stats\n",
        "\n",
        "\n"
      ],
      "outputs" : [
      ]
    },
    {
      "cell_type" : "code",
      "execution_count" : 12,
      "metadata" : {
        "cell.metadata.exec_info" : {
          "startTs" : 1585856742512,
          "endTs" : 1585856742724
        },
        "language" : "python"
      },
      "language" : "python",
      "source" : [
        "for i in collection.find({'bedrooms': 3, 'address.country' : 'Portugal'}).limit(1):\n",
        "    pprint.pprint(i)"
      ],
      "outputs" : [
      ]
    },
    {
      "cell_type" : "code",
      "execution_count" : 13,
      "metadata" : {
        "cell.metadata.exec_info" : {
          "startTs" : 1585856728933,
          "endTs" : 1585856729294
        },
        "language" : "python"
      },
      "language" : "python",
      "source" : [
        "execution_stats = collection.find({'bedrooms': 1, 'address.country' : 'Portugal'}).explain()['queryPlanner']\n",
        "pprint.pprint(execution_stats)"
      ],
      "outputs" : [
        {
          "name" : "stdout",
          "text" : [
            "{'indexFilterSet': False,\n",
            " 'namespace': 'sample_airbnb.listingsAndReviews',\n",
            " 'parsedQuery': {'$and': [{'address.country': {'$eq': 'Portugal'}},\n",
            "                          {'bedrooms': {'$eq': 1}}]},\n",
            " 'plannerVersion': 1,\n",
            " 'rejectedPlans': [],\n",
            " 'winningPlan': {'direction': 'forward',\n",
            "                 'filter': {'$and': [{'address.country': {'$eq': 'Portugal'}},\n",
            "                                     {'bedrooms': {'$eq': 1}}]},\n",
            "                 'stage': 'COLLSCAN'}}\n"
          ],
          "output_type" : "stream"
        }
      ]
    },
    {
      "cell_type" : "markdown",
      "execution_count" : 16,
      "metadata" : {
        "language" : "text"
      },
      "language" : "text",
      "source" : [
        "2020-04-02T19:29:01.086+0000 I COMMAND [conn1190] command sample_airbnb.listingsAndReviews command: find { find: \"listingsAndReviews\", filter: { bedrooms: 3, address: { country: \"Portugal\" } }, limit: 2, lsid: { id: UUID(\"83394815-c4e6-4152-a9d9-a92d8bbd814c\") }, $clusterTime: { clusterTime: Timestamp(1585855734, 19), signature: { hash: BinData(0, AF7BF4B36B6D32BF28E9448E2391B6BF8570BFF8), keyId: 6811077507295477762 } }, $db: \"sample_airbnb\", $readPreference: { mode: \"primary\" } } planSummary: COLLSCAN keysExamined:0 docsExamined:5555 cursorExhausted:1 numYields:44 nreturned:0 queryHash:9CDD0B83 planCacheKey:9CDD0B83 reslen:246 locks:{ ReplicationStateTransition: { acquireCount: { w: 45 } }, Global: { acquireCount: { r: 45 } }, Database: { acquireCount: { r: 45 } }, Collection: { acquireCount: { r: 45 } }, Mutex: { acquireCount: { r: 1 } } } storage:{ data: { bytesRead: 94480432, timeReadingMicros: 284341 } } protocol:op_msg 298ms<br>\n",
        "\n"
      ],
      "outputs" : [
      ]
    },
    {
      "cell_type" : "code",
      "execution_count" : 14,
      "metadata" : {
        "cell.metadata.exec_info" : {
          "startTs" : 1585856759814,
          "endTs" : 1585856760107
        },
        "language" : "python"
      },
      "language" : "python",
      "source" : [
        "resp = collection.create_index([(\"bedrooms\", 1),(\"address.country\", 1)])\n",
        "\n",
        "print (\"index response:\", resp)"
      ],
      "outputs" : [
        {
          "name" : "stdout",
          "text" : [
            "index response: bedrooms_1_address.country_1\n"
          ],
          "output_type" : "stream"
        }
      ]
    },
    {
      "cell_type" : "code",
      "execution_count" : 15,
      "metadata" : {
        "cell.metadata.exec_info" : {
          "startTs" : 1585856772004,
          "endTs" : 1585856772412
        },
        "language" : "python"
      },
      "language" : "python",
      "source" : [
        "execution_stats = collection.find({'bedrooms': 1, 'address.country' : 'Portugal'}).explain()['queryPlanner']\n",
        "pprint.pprint(execution_stats)"
      ],
      "outputs" : [
        {
          "name" : "stdout",
          "text" : [
            "{'indexFilterSet': False,\n",
            " 'namespace': 'sample_airbnb.listingsAndReviews',\n",
            " 'parsedQuery': {'$and': [{'address.country': {'$eq': 'Portugal'}},\n",
            "                          {'bedrooms': {'$eq': 1}}]},\n",
            " 'plannerVersion': 1,\n",
            " 'rejectedPlans': [],\n",
            " 'winningPlan': {'inputStage': {'direction': 'forward',\n",
            "                                'indexBounds': {'address.country': ['[\"Portugal\", '\n",
            "                                                                    '\"Portugal\"]'],\n",
            "                                                'bedrooms': ['[1, 1]']},\n",
            "                                'indexName': 'bedrooms_1_address.country_1',\n",
            "                                'indexVersion': 2,\n",
            "                                'isMultiKey': False,\n",
            "                                'isPartial': False,\n",
            "                                'isSparse': False,\n",
            "                                'isUnique': False,\n",
            "                                'keyPattern': {'address.country': 1,\n",
            "                                               'bedrooms': 1},\n",
            "                                'multiKeyPaths': {'address.country': [],\n",
            "                                                  'bedrooms': []},\n",
            "                                'stage': 'IXSCAN'},\n",
            "                 'stage': 'FETCH'}}\n"
          ],
          "output_type" : "stream"
        }
      ]
    }
  ]
}