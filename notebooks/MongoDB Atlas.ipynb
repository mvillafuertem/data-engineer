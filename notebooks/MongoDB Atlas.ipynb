{
  "metadata" : {
    "config" : {
      "dependencies" : {
        "python" : [
          "pymongo",
          "dnspython",
          "mtools[all]"
        ]
      },
      "exclusions" : [
      ],
      "repositories" : [
      ],
      "sparkConfig" : {
        
      },
      "env" : {
        "PASSWORD" : "pepepassword",
        "PRIVATE_KEY" : "d7482ad5-86d1-455b-a1d2-d94a7428c895"
      }
    },
    "language_info" : {
      "name" : "python"
    }
  },
  "nbformat" : 4,
  "nbformat_minor" : 0,
  "cells" : [
    {
      "cell_type" : "markdown",
      "execution_count" : 0,
      "metadata" : {
        "language" : "text"
      },
      "language" : "text",
      "source" : [
        "# MongoDB Atlas\n",
        "\n",
        "This is a text cell. Start editing!"
      ],
      "outputs" : [
      ]
    },
    {
      "cell_type" : "code",
      "execution_count" : 1,
      "metadata" : {
        "cell.metadata.exec_info" : {
          "startTs" : 1585759272957,
          "endTs" : 1585759274612
        },
        "language" : "python"
      },
      "language" : "python",
      "source" : [
        "import pymongo\n",
        "import os\n",
        "from pymongo import MongoClient\n",
        "\n",
        "password = os.environ['PASSWORD']\n",
        "\n",
        "client = MongoClient('mongodb+srv://pepe:' + password +'@cluster0-dajh0.mongodb.net/test?retryWrites=true&w=majority')\n",
        "server_info = client.server_info()"
      ],
      "outputs" : [
      ]
    },
    {
      "cell_type" : "code",
      "execution_count" : 2,
      "metadata" : {
        "cell.metadata.exec_info" : {
          "startTs" : 1585753879898,
          "endTs" : 1585753880179
        },
        "language" : "python"
      },
      "language" : "python",
      "source" : [
        "import os\n",
        "cmd = 'mlogfilter --version'\n",
        "os.popen(cmd).readlines()"
      ],
      "outputs" : [
        {
          "execution_count" : 2,
          "data" : {
            "text/plain" : [
              "['mtools version 1.6.3 || Python 3.7.3 (default, Dec 20 2019, 18:57:59) [GCC\\n', '8.3.0]\\n']"
            ]
          },
          "metadata" : {
            "name" : "Out",
            "type" : "TypedPythonObject[list]"
          },
          "output_type" : "execute_result"
        }
      ]
    },
    {
      "cell_type" : "code",
      "execution_count" : 3,
      "metadata" : {
        "cell.metadata.exec_info" : {
          "startTs" : 1585757772492,
          "endTs" : 1585757783100
        },
        "language" : "python"
      },
      "language" : "python",
      "source" : [
        "import os\n",
        "\n",
        "cmd = 'script -c \"mloginfo -help\"'\n",
        "\n",
        "os.popen(cmd).read()\n",
        "\n"
      ],
      "outputs" : [
        {
          "execution_count" : 3,
          "data" : {
            "text/plain" : [
              "Script started, file is typescript\n",
              "usage: mloginfo [-h] [--version] [--no-progressbar] [--debug] [--verbose]\n",
              "                [--clients] [--connections] [--connstats] [--cursors]\n",
              "                [--distinct] [--queries]\n",
              "                [--sort {namespace"
            ]
          },
          "metadata" : {
            "name" : "Out",
            "type" : "String"
          },
          "output_type" : "execute_result"
        }
      ]
    },
    {
      "cell_type" : "code",
      "execution_count" : 4,
      "metadata" : {
        "cell.metadata.exec_info" : {
          "startTs" : 1585759212281,
          "endTs" : 1585759213191
        },
        "language" : "python"
      },
      "language" : "python",
      "source" : [
        "import os\n",
        "import pprint\n",
        "\n",
        "private_key = os.environ['PRIVATE_KEY']\n",
        "wget_cmd = \"\"\"wget https://cloud.mongodb.com/api/atlas/v1.0/groups/5e84a684fdf84b353318bddd/clusters/Cluster0/logs/mongodb.gz \\\n",
        "--header=Content-Type:application/gzip \\\n",
        "--http-user=kbdceagv \\\n",
        "--http-password=\n",
        "\"\"\" + private_key\n",
        "\n",
        "curlCMD = \"\"\"curl \\\n",
        "--user \"kbdceagv:private_key\" \\\n",
        "--digest \\\n",
        "--header \"Accept: application/gzip\" \\\n",
        "--request GET \"https://cloud.mongodb.com/api/atlas/v1.0/groups/5e84a684fdf84b353318bddd/clusters/Cluster0/logs/mongodb.gz\"\n",
        "\"\"\"\n",
        "\n",
        "result = os.popen(wget_cmd).read()\n",
        "\n",
        "pprint.pprint(result)"
      ],
      "outputs" : [
        {
          "name" : "stdout",
          "text" : [
            "''\n"
          ],
          "output_type" : "stream"
        }
      ]
    }
  ]
}