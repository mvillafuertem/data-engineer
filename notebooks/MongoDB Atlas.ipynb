{
  "metadata" : {
    "config" : {
      "dependencies" : {
        "python" : [
          "pymongo",
          "dnspython",
          "mtools[all]",
          "requests",
          "pandas",
          "numpy"
        ]
      },
      "exclusions" : [
      ],
      "repositories" : [
      ],
      "sparkConfig" : {
        
      },
      "env" : {
        "PASSWORD" : "pepepassword",
        "PRIVATE_KEY" : "d7482ad5-86d1-455b-a1d2-d94a7428c895"
      }
    },
    "language_info" : {
      "name" : "python"
    }
  },
  "nbformat" : 4,
  "nbformat_minor" : 0,
  "cells" : [
    {
      "cell_type" : "markdown",
      "execution_count" : 0,
      "metadata" : {
        "language" : "text"
      },
      "language" : "text",
      "source" : [
        "# MongoDB Atlas\n",
        "\n",
        "\n",
        "This is a text cell. Start editing!\n",
        "\n",
        "\n"
      ],
      "outputs" : [
      ]
    },
    {
      "cell_type" : "code",
      "execution_count" : 1,
      "metadata" : {
        "jupyter.source_hidden" : true,
        "cell.metadata.exec_info" : {
          "startTs" : 1585768019284,
          "endTs" : 1585768021502
        },
        "language" : "python"
      },
      "language" : "python",
      "source" : [
        "import pymongo\n",
        "import os\n",
        "from pymongo import MongoClient\n",
        "\n",
        "password = os.environ['PASSWORD']\n",
        "\n",
        "client = MongoClient('mongodb+srv://pepe:' + password +'@cluster0-dajh0.mongodb.net/test?retryWrites=true&w=majority')\n",
        "server_info = client.server_info()"
      ],
      "outputs" : [
      ]
    },
    {
      "cell_type" : "code",
      "execution_count" : 2,
      "metadata" : {
        "jupyter.source_hidden" : true,
        "jupyter.outputs_hidden" : true,
        "cell.metadata.exec_info" : {
          "startTs" : 1585753879898,
          "endTs" : 1585753880179
        },
        "language" : "python"
      },
      "language" : "python",
      "source" : [
        "import os\n",
        "cmd = 'mlogfilter --version'\n",
        "os.popen(cmd).readlines()"
      ],
      "outputs" : [
        {
          "execution_count" : 2,
          "data" : {
            "text/plain" : [
              "['mtools version 1.6.3 || Python 3.7.3 (default, Dec 20 2019, 18:57:59) [GCC\\n', '8.3.0]\\n']"
            ]
          },
          "metadata" : {
            "name" : "Out",
            "type" : "TypedPythonObject[list]"
          },
          "output_type" : "execute_result"
        }
      ]
    },
    {
      "cell_type" : "code",
      "execution_count" : 3,
      "metadata" : {
        "jupyter.source_hidden" : true,
        "jupyter.outputs_hidden" : true,
        "cell.metadata.exec_info" : {
          "startTs" : 1585757772492,
          "endTs" : 1585757783100
        },
        "language" : "python"
      },
      "language" : "python",
      "source" : [
        "import os\n",
        "\n",
        "cmd = 'script -c \"mloginfo -help\"'\n",
        "\n",
        "os.popen(cmd).read()\n",
        "\n"
      ],
      "outputs" : [
        {
          "execution_count" : 3,
          "data" : {
            "text/plain" : [
              "Script started, file is typescript\n",
              "usage: mloginfo [-h] [--version] [--no-progressbar] [--debug] [--verbose]\n",
              "                [--clients] [--connections] [--connstats] [--cursors]\n",
              "                [--distinct] [--queries]\n",
              "                [--sort {namespace"
            ]
          },
          "metadata" : {
            "name" : "Out",
            "type" : "String"
          },
          "output_type" : "execute_result"
        }
      ]
    },
    {
      "cell_type" : "code",
      "execution_count" : 4,
      "metadata" : {
        "jupyter.source_hidden" : true,
        "jupyter.outputs_hidden" : true,
        "cell.metadata.exec_info" : {
          "startTs" : 1585759212281,
          "endTs" : 1585759213191
        },
        "language" : "python"
      },
      "language" : "python",
      "source" : [
        "import os\n",
        "import pprint\n",
        "\n",
        "private_key = os.environ['PRIVATE_KEY']\n",
        "wget_cmd = \"\"\"wget https://cloud.mongodb.com/api/atlas/v1.0/groups/5e84a684fdf84b353318bddd/clusters/Cluster0/logs/mongodb.gz \\\n",
        "--header=Content-Type:application/gzip \\\n",
        "--http-user=kbdceagv \\\n",
        "--http-password=\n",
        "\"\"\" + private_key\n",
        "\n",
        "curlCMD = \"\"\"curl \\\n",
        "--user \"kbdceagv:private_key\" \\\n",
        "--digest \\\n",
        "--header \"Accept: application/gzip\" \\\n",
        "--request GET \"https://cloud.mongodb.com/api/atlas/v1.0/groups/5e84a684fdf84b353318bddd/clusters/Cluster0/logs/mongodb.gz\"\n",
        "\"\"\"\n",
        "\n",
        "result = os.popen(wget_cmd).read()"
      ],
      "outputs" : [
        {
          "name" : "stdout",
          "text" : [
            "''\n"
          ],
          "output_type" : "stream"
        }
      ]
    },
    {
      "cell_type" : "code",
      "execution_count" : 5,
      "metadata" : {
        "jupyter.source_hidden" : true,
        "jupyter.outputs_hidden" : true,
        "cell.metadata.exec_info" : {
          "startTs" : 1585771233650,
          "endTs" : 1585771235087
        },
        "language" : "python"
      },
      "language" : "python",
      "source" : [
        "import requests\n",
        "import os\n",
        "import pprint\n",
        "from requests.auth import HTTPDigestAuth\n",
        "\n",
        "url = 'https://cloud.mongodb.com/api/atlas/v1.0/groups/5e84a684fdf84b353318bddd/clusters/'\n",
        "user = 'kbdceagv'\n",
        "password = os.environ['PRIVATE_KEY']\n",
        "headers = {'content-type': 'application/json'}\n",
        "\n",
        "print(password)\n",
        "r = requests.get(url, headers=headers, auth=HTTPDigestAuth(user, password))\n",
        "\n",
        "pprint.pprint(r.json())"
      ],
      "outputs" : [
        {
          "name" : "stdout",
          "text" : [
            "d7482ad5-86d1-455b-a1d2-d94a7428c895\n",
            "{'links': [{'href': 'https://cloud.mongodb.com/api/atlas/v1.0/groups/5e84a684fdf84b353318bddd/clusters/?pageNum=1&itemsPerPage=100',\n",
            "            'rel': 'self'}],\n",
            " 'results': [{'autoScaling': {'compute': {'enabled': False,\n",
            "                                          'scaleDownEnabled': False},\n",
            "                              'diskGBEnabled': False},\n",
            "              'backupEnabled': False,\n",
            "              'biConnector': {'enabled': False, 'readPreference': 'secondary'},\n",
            "              'clusterType': 'REPLICASET',\n",
            "              'connectionStrings': {'standard': 'mongodb://cluster0-shard-00-00-dajh0.mongodb.net:27017,cluster0-shard-00-01-dajh0.mongodb.net:27017,cluster0-shard-00-02-dajh0.mongodb.net:27017/?ssl=true&authSource=admin&replicaSet=Cluster0-shard-0',\n",
            "                                    'standardSrv': 'mongodb+srv://cluster0-dajh0.mongodb.net'},\n",
            "              'diskSizeGB': 0.5,\n",
            "              'encryptionAtRestProvider': 'NONE',\n",
            "              'groupId': '5e84a684fdf84b353318bddd',\n",
            "              'id': '5e84a6b5aea71c2a10e4a400',\n",
            "              'labels': [],\n",
            "              'links': [{'href': 'https://cloud.mongodb.com/api/atlas/v1.0/groups/5e84a684fdf84b353318bddd/clusters/Cluster0',\n",
            "                         'rel': 'self'},\n",
            "                        {'href': 'https://cloud.mongodb.com/api/atlas/v1.0/groups/5e84a684fdf84b353318bddd/clusters/Cluster0/restoreJobs',\n",
            "                         'rel': 'http://mms.mongodb.com/restoreJobs'},\n",
            "                        {'href': 'https://cloud.mongodb.com/api/atlas/v1.0/groups/5e84a684fdf84b353318bddd/clusters/Cluster0/snapshots',\n",
            "                         'rel': 'http://mms.mongodb.com/snapshots'}],\n",
            "              'mongoDBMajorVersion': '4.2',\n",
            "              'mongoDBVersion': '4.2.3',\n",
            "              'mongoURI': 'mongodb://cluster0-shard-00-00-dajh0.mongodb.net:27017,cluster0-shard-00-01-dajh0.mongodb.net:27017,cluster0-shard-00-02-dajh0.mongodb.net:27017',\n",
            "              'mongoURIUpdated': '2020-04-01T14:38:17Z',\n",
            "              'mongoURIWithOptions': 'mongodb://cluster0-shard-00-00-dajh0.mongodb.net:27017,cluster0-shard-00-01-dajh0.mongodb.net:27017,cluster0-shard-00-02-dajh0.mongodb.net:27017/?ssl=true&authSource=admin&replicaSet=Cluster0-shard-0',\n",
            "              'name': 'Cluster0',\n",
            "              'numShards': 1,\n",
            "              'paused': False,\n",
            "              'pitEnabled': False,\n",
            "              'providerBackupEnabled': False,\n",
            "              'providerSettings': {'autoScaling': {'compute': {'maxInstanceSize': None,\n",
            "                                                               'minInstanceSize': None}},\n",
            "                                   'backingProviderName': 'AWS',\n",
            "                                   'instanceSizeName': 'M0',\n",
            "                                   'providerName': 'TENANT',\n",
            "                                   'regionName': 'US_EAST_1'},\n",
            "              'replicationFactor': 3,\n",
            "              'replicationSpec': {'US_EAST_1': {'analyticsNodes': 0,\n",
            "                                                'electableNodes': 3,\n",
            "                                                'priority': 7,\n",
            "                                                'readOnlyNodes': 0}},\n",
            "              'replicationSpecs': [{'id': '5e84a6a136c9e617e64ab849',\n",
            "                                    'numShards': 1,\n",
            "                                    'regionsConfig': {'US_EAST_1': {'analyticsNodes': 0,\n",
            "                                                                    'electableNodes': 3,\n",
            "                                                                    'priority': 7,\n",
            "                                                                    'readOnlyNodes': 0}},\n",
            "                                    'zoneName': 'Zone 1'}],\n",
            "              'srvAddress': 'mongodb+srv://cluster0-dajh0.mongodb.net',\n",
            "              'stateName': 'IDLE'}],\n",
            " 'totalCount': 1}\n"
          ],
          "output_type" : "stream"
        }
      ]
    },
    {
      "cell_type" : "code",
      "execution_count" : 6,
      "metadata" : {
        "cell.metadata.exec_info" : {
          "startTs" : 1585772042429,
          "endTs" : 1585772042851
        },
        "language" : "python"
      },
      "language" : "python",
      "source" : [
        "import pandas\n",
        "\n",
        "database_names = client.database_names()\n",
        "df = pandas.DataFrame(database_names, columns=['Database Names'])\n",
        "print(df)\n"
      ],
      "outputs" : [
        {
          "name" : "stdout",
          "text" : [
            "       Database Names\n",
            "0       sample_airbnb\n",
            "1    sample_analytics\n",
            "2   sample_geospatial\n",
            "3        sample_mflix\n",
            "4     sample_supplies\n",
            "5     sample_training\n",
            "6  sample_weatherdata\n",
            "7               admin\n",
            "8               local\n"
          ],
          "output_type" : "stream"
        }
      ]
    },
    {
      "cell_type" : "code",
      "execution_count" : 7,
      "metadata" : {
        "cell.metadata.exec_info" : {
          "startTs" : 1585772226179,
          "endTs" : 1585772226538
        },
        "language" : "python"
      },
      "language" : "python",
      "source" : [
        "db = client.sample_airbnb\n",
        "collection_names = db.collection_names()\n",
        "df = pandas.DataFrame(collection_names, columns=['Collection Names'])\n",
        "print(df)"
      ],
      "outputs" : [
        {
          "name" : "stdout",
          "text" : [
            "     Collection Names\n",
            "0  listingsAndReviews\n"
          ],
          "output_type" : "stream"
        }
      ]
    },
    {
      "cell_type" : "code",
      "execution_count" : 8,
      "metadata" : {
        "jupyter.outputs_hidden" : true
      },
      "language" : "python",
      "source" : [
        "import pprint\n",
        "\n",
        "first = db.listingsAndReviews.find_one()\n",
        "\n",
        "pprint.pprint(first)"
      ],
      "outputs" : [
        {
          "name" : "stdout",
          "text" : [
            "{'_id': '10021707',\n",
            " 'access': '',\n",
            " 'accommodates': 1,\n",
            " 'address': {'country': 'United States',\n",
            "             'country_code': 'US',\n",
            "             'government_area': 'Bushwick',\n",
            "             'location': {'coordinates': [-73.93615, 40.69791],\n",
            "                          'is_location_exact': True,\n",
            "                          'type': 'Point'},\n",
            "             'market': 'New York',\n",
            "             'street': 'Brooklyn, NY, United States',\n",
            "             'suburb': 'Brooklyn'},\n",
            " 'amenities': ['Internet',\n",
            "               'Wifi',\n",
            "               'Air conditioning',\n",
            "               'Kitchen',\n",
            "               'Buzzer/wireless intercom',\n",
            "               'Heating',\n",
            "               'Smoke detector',\n",
            "               'Carbon monoxide detector',\n",
            "               'Essentials',\n",
            "               'Lock on bedroom door'],\n",
            " 'availability': {'availability_30': 0,\n",
            "                  'availability_365': 0,\n",
            "                  'availability_60': 0,\n",
            "                  'availability_90': 0},\n",
            " 'bathrooms': Decimal128('1.5'),\n",
            " 'bed_type': 'Real Bed',\n",
            " 'bedrooms': 1,\n",
            " 'beds': 1,\n",
            " 'calendar_last_scraped': datetime.datetime(2019, 3, 6, 5, 0),\n",
            " 'cancellation_policy': 'flexible',\n",
            " 'description': 'Here exists a very cozy room for rent in a shared 4-bedroom '\n",
            "                'apartment. It is located one block off of the JMZ at Myrtle '\n",
            "                'Broadway.  The neighborhood is diverse and appeals to a '\n",
            "                'variety of people.',\n",
            " 'extra_people': Decimal128('0.00'),\n",
            " 'first_review': datetime.datetime(2016, 1, 31, 5, 0),\n",
            " 'guests_included': Decimal128('1'),\n",
            " 'host': {'host_about': '',\n",
            "          'host_has_profile_pic': True,\n",
            "          'host_id': '11275734',\n",
            "          'host_identity_verified': True,\n",
            "          'host_is_superhost': False,\n",
            "          'host_listings_count': 1,\n",
            "          'host_location': 'New York, New York, United States',\n",
            "          'host_name': 'Josh',\n",
            "          'host_neighbourhood': 'Bushwick',\n",
            "          'host_picture_url': 'https://a0.muscache.com/im/users/11275734/profile_pic/1405792127/original.jpg?aki_policy=profile_x_medium',\n",
            "          'host_thumbnail_url': 'https://a0.muscache.com/im/users/11275734/profile_pic/1405792127/original.jpg?aki_policy=profile_small',\n",
            "          'host_total_listings_count': 1,\n",
            "          'host_url': 'https://www.airbnb.com/users/show/11275734',\n",
            "          'host_verifications': ['email', 'phone', 'reviews', 'kba']},\n",
            " 'house_rules': '',\n",
            " 'images': {'medium_url': '',\n",
            "            'picture_url': 'https://a0.muscache.com/im/pictures/72844c8c-fec2-440e-a752-bba9b268c361.jpg?aki_policy=large',\n",
            "            'thumbnail_url': '',\n",
            "            'xl_picture_url': ''},\n",
            " 'interaction': '',\n",
            " 'last_review': datetime.datetime(2016, 1, 31, 5, 0),\n",
            " 'last_scraped': datetime.datetime(2019, 3, 6, 5, 0),\n",
            " 'listing_url': 'https://www.airbnb.com/rooms/10021707',\n",
            " 'maximum_nights': '1125',\n",
            " 'minimum_nights': '14',\n",
            " 'name': 'Private Room in Bushwick',\n",
            " 'neighborhood_overview': '',\n",
            " 'notes': '',\n",
            " 'number_of_reviews': 1,\n",
            " 'price': Decimal128('40.00'),\n",
            " 'property_type': 'Apartment',\n",
            " 'review_scores': {'review_scores_accuracy': 10,\n",
            "                   'review_scores_checkin': 10,\n",
            "                   'review_scores_cleanliness': 10,\n",
            "                   'review_scores_communication': 10,\n",
            "                   'review_scores_location': 8,\n",
            "                   'review_scores_rating': 100,\n",
            "                   'review_scores_value': 8},\n",
            " 'reviews': [{'_id': '61050713',\n",
            "              'comments': 'Josh was out of town during my 1 month stay. His '\n",
            "                          'roommates greeted and helped get me settled. They '\n",
            "                          \"were great hosts and all around cool people. I'm a \"\n",
            "                          'Brooklynite, but have never lived in Bushwick.\\r\\n'\n",
            "                          \"If you're looking for an hip, authentic, and \"\n",
            "                          'convenient Brooklyn experience, this spot is for '\n",
            "                          'you.  You can literally see the Subway platform '\n",
            "                          \"from Josh's window. Also a couple steps away from \"\n",
            "                          'anything you could possibly need... restaurants, '\n",
            "                          'juice bar, organic grocery, etc. ',\n",
            "              'date': datetime.datetime(2016, 1, 31, 5, 0),\n",
            "              'listing_id': '10021707',\n",
            "              'reviewer_id': '52006105',\n",
            "              'reviewer_name': 'Antoine'}],\n",
            " 'room_type': 'Private room',\n",
            " 'space': '',\n",
            " 'summary': 'Here exists a very cozy room for rent in a shared 4-bedroom '\n",
            "            'apartment. It is located one block off of the JMZ at Myrtle '\n",
            "            'Broadway.  The neighborhood is diverse and appeals to a variety '\n",
            "            'of people.',\n",
            " 'transit': ''}\n"
          ],
          "output_type" : "stream"
        }
      ]
    },
    {
      "cell_type" : "code",
      "execution_count" : 9,
      "metadata" : {
        "cell.metadata.exec_info" : {
          "startTs" : 1585773600082,
          "endTs" : 1585773601047
        },
        "language" : "python"
      },
      "language" : "python",
      "source" : [
        "limit = db.listingsAndReviews.find().limit(2)\n",
        "mylist = list(limit)\n",
        "size = len(mylist)\n",
        "\n",
        "pprint.pprint(mylist)\n"
      ],
      "outputs" : [
        {
          "name" : "stdout",
          "text" : [
            "[{'_id': '10021707',\n",
            "  'access': '',\n",
            "  'accommodates': 1,\n",
            "  'address': {'country': 'United States',\n",
            "              'country_code': 'US',\n",
            "              'government_area': 'Bushwick',\n",
            "              'location': {'coordinates': [-73.93615, 40.69791],\n",
            "                           'is_location_exact': True,\n",
            "                           'type': 'Point'},\n",
            "              'market': 'New York',\n",
            "              'street': 'Brooklyn, NY, United States',\n",
            "              'suburb': 'Brooklyn'},\n",
            "  'amenities': ['Internet',\n",
            "                'Wifi',\n",
            "                'Air conditioning',\n",
            "                'Kitchen',\n",
            "                'Buzzer/wireless intercom',\n",
            "                'Heating',\n",
            "                'Smoke detector',\n",
            "                'Carbon monoxide detector',\n",
            "                'Essentials',\n",
            "                'Lock on bedroom door'],\n",
            "  'availability': {'availability_30': 0,\n",
            "                   'availability_365': 0,\n",
            "                   'availability_60': 0,\n",
            "                   'availability_90': 0},\n",
            "  'bathrooms': Decimal128('1.5'),\n",
            "  'bed_type': 'Real Bed',\n",
            "  'bedrooms': 1,\n",
            "  'beds': 1,\n",
            "  'calendar_last_scraped': datetime.datetime(2019, 3, 6, 5, 0),\n",
            "  'cancellation_policy': 'flexible',\n",
            "  'description': 'Here exists a very cozy room for rent in a shared 4-bedroom '\n",
            "                 'apartment. It is located one block off of the JMZ at Myrtle '\n",
            "                 'Broadway.  The neighborhood is diverse and appeals to a '\n",
            "                 'variety of people.',\n",
            "  'extra_people': Decimal128('0.00'),\n",
            "  'first_review': datetime.datetime(2016, 1, 31, 5, 0),\n",
            "  'guests_included': Decimal128('1'),\n",
            "  'host': {'host_about': '',\n",
            "           'host_has_profile_pic': True,\n",
            "           'host_id': '11275734',\n",
            "           'host_identity_verified': True,\n",
            "           'host_is_superhost': False,\n",
            "           'host_listings_count': 1,\n",
            "           'host_location': 'New York, New York, United States',\n",
            "           'host_name': 'Josh',\n",
            "           'host_neighbourhood': 'Bushwick',\n",
            "           'host_picture_url': 'https://a0.muscache.com/im/users/11275734/profile_pic/1405792127/original.jpg?aki_policy=profile_x_medium',\n",
            "           'host_thumbnail_url': 'https://a0.muscache.com/im/users/11275734/profile_pic/1405792127/original.jpg?aki_policy=profile_small',\n",
            "           'host_total_listings_count': 1,\n",
            "           'host_url': 'https://www.airbnb.com/users/show/11275734',\n",
            "           'host_verifications': ['email', 'phone', 'reviews', 'kba']},\n",
            "  'house_rules': '',\n",
            "  'images': {'medium_url': '',\n",
            "             'picture_url': 'https://a0.muscache.com/im/pictures/72844c8c-fec2-440e-a752-bba9b268c361.jpg?aki_policy=large',\n",
            "             'thumbnail_url': '',\n",
            "             'xl_picture_url': ''},\n",
            "  'interaction': '',\n",
            "  'last_review': datetime.datetime(2016, 1, 31, 5, 0),\n",
            "  'last_scraped': datetime.datetime(2019, 3, 6, 5, 0),\n",
            "  'listing_url': 'https://www.airbnb.com/rooms/10021707',\n",
            "  'maximum_nights': '1125',\n",
            "  'minimum_nights': '14',\n",
            "  'name': 'Private Room in Bushwick',\n",
            "  'neighborhood_overview': '',\n",
            "  'notes': '',\n",
            "  'number_of_reviews': 1,\n",
            "  'price': Decimal128('40.00'),\n",
            "  'property_type': 'Apartment',\n",
            "  'review_scores': {'review_scores_accuracy': 10,\n",
            "                    'review_scores_checkin': 10,\n",
            "                    'review_scores_cleanliness': 10,\n",
            "                    'review_scores_communication': 10,\n",
            "                    'review_scores_location': 8,\n",
            "                    'review_scores_rating': 100,\n",
            "                    'review_scores_value': 8},\n",
            "  'reviews': [{'_id': '61050713',\n",
            "               'comments': 'Josh was out of town during my 1 month stay. His '\n",
            "                           'roommates greeted and helped get me settled. They '\n",
            "                           \"were great hosts and all around cool people. I'm a \"\n",
            "                           'Brooklynite, but have never lived in Bushwick.\\r\\n'\n",
            "                           \"If you're looking for an hip, authentic, and \"\n",
            "                           'convenient Brooklyn experience, this spot is for '\n",
            "                           'you.  You can literally see the Subway platform '\n",
            "                           \"from Josh's window. Also a couple steps away from \"\n",
            "                           'anything you could possibly need... restaurants, '\n",
            "                           'juice bar, organic grocery, etc. ',\n",
            "               'date': datetime.datetime(2016, 1, 31, 5, 0),\n",
            "               'listing_id': '10021707',\n",
            "               'reviewer_id': '52006105',\n",
            "               'reviewer_name': 'Antoine'}],\n",
            "  'room_type': 'Private room',\n",
            "  'space': '',\n",
            "  'summary': 'Here exists a very cozy room for rent in a shared 4-bedroom '\n",
            "             'apartment. It is located one block off of the JMZ at Myrtle '\n",
            "             'Broadway.  The neighborhood is diverse and appeals to a variety '\n",
            "             'of people.',\n",
            "  'transit': ''},\n",
            " {'_id': '10009999',\n",
            "  'access': '',\n",
            "  'accommodates': 4,\n",
            "  'address': {'country': 'Brazil',\n",
            "              'country_code': 'BR',\n",
            "              'government_area': 'Jardim Botânico',\n",
            "              'location': {'coordinates': [-43.23074991429229,\n",
            "                                           -22.966253551739655],\n",
            "                           'is_location_exact': True,\n",
            "                           'type': 'Point'},\n",
            "              'market': 'Rio De Janeiro',\n",
            "              'street': 'Rio de Janeiro, Rio de Janeiro, Brazil',\n",
            "              'suburb': 'Jardim Botânico'},\n",
            "  'amenities': ['Wifi',\n",
            "                'Wheelchair accessible',\n",
            "                'Kitchen',\n",
            "                'Free parking on premises',\n",
            "                'Smoking allowed',\n",
            "                'Hot tub',\n",
            "                'Buzzer/wireless intercom',\n",
            "                'Family/kid friendly',\n",
            "                'Washer',\n",
            "                'First aid kit',\n",
            "                'Essentials',\n",
            "                'Hangers',\n",
            "                'Hair dryer',\n",
            "                'Iron',\n",
            "                'Laptop friendly workspace'],\n",
            "  'availability': {'availability_30': 0,\n",
            "                   'availability_365': 0,\n",
            "                   'availability_60': 0,\n",
            "                   'availability_90': 0},\n",
            "  'bathrooms': Decimal128('1.0'),\n",
            "  'bed_type': 'Real Bed',\n",
            "  'bedrooms': 1,\n",
            "  'beds': 2,\n",
            "  'calendar_last_scraped': datetime.datetime(2019, 2, 11, 5, 0),\n",
            "  'cancellation_policy': 'flexible',\n",
            "  'cleaning_fee': Decimal128('187.00'),\n",
            "  'description': 'One bedroom + sofa-bed in quiet and bucolic neighbourhood '\n",
            "                 'right next to the Botanical Garden. Small garden, outside '\n",
            "                 'shower, well equipped kitchen and bathroom with shower and '\n",
            "                 'tub. Easy for transport with many restaurants and basic '\n",
            "                 'facilities in the area. Lovely one bedroom + sofa-bed in the '\n",
            "                 'living room, perfect for two but fits up to four '\n",
            "                 'comfortably.  There´s a small outside garden with a shower '\n",
            "                 'There´s a well equipped open kitchen with both 110V / 220V '\n",
            "                 'wall plugs and one bathroom with shower, tub and even a '\n",
            "                 'sauna machine! All newly refurbished! I´ll be happy to help '\n",
            "                 'you with any doubts, tips or any other information needed '\n",
            "                 'during your stay. This charming ground floor flat is located '\n",
            "                 'in Horto, a quiet and bucolic neighborhood just next to the '\n",
            "                 'Botanical Garden, where most of the descendants of it´s '\n",
            "                 'first gardeners still live. You´ll be 30 minutes walk from '\n",
            "                 'waterfalls in the rainforest with easy hiking trails! There '\n",
            "                 'are nice bars and restaurants as well as basic facilities - '\n",
            "                 'pharmacy, b',\n",
            "  'extra_people': Decimal128('0.00'),\n",
            "  'guests_included': Decimal128('1'),\n",
            "  'host': {'host_about': 'I am an artist and traveling is a major part of my '\n",
            "                         'life. I love treating visitors the way I like to be '\n",
            "                         \"treated when I´m abroad and I'm usually renting my \"\n",
            "                         \"flat while I'm away. I can recommend some cool \"\n",
            "                         'parties and nights out as well as advise on some '\n",
            "                         'hidden secrets of Rio’s nature!',\n",
            "           'host_has_profile_pic': True,\n",
            "           'host_id': '1282196',\n",
            "           'host_identity_verified': False,\n",
            "           'host_is_superhost': False,\n",
            "           'host_listings_count': 1,\n",
            "           'host_location': 'Rio de Janeiro, State of Rio de Janeiro, Brazil',\n",
            "           'host_name': 'Ynaie',\n",
            "           'host_neighbourhood': 'Jardim Botânico',\n",
            "           'host_picture_url': 'https://a0.muscache.com/im/pictures/9681e3cc-4af1-4046-b294-2881dffb4ff8.jpg?aki_policy=profile_x_medium',\n",
            "           'host_thumbnail_url': 'https://a0.muscache.com/im/pictures/9681e3cc-4af1-4046-b294-2881dffb4ff8.jpg?aki_policy=profile_small',\n",
            "           'host_total_listings_count': 1,\n",
            "           'host_url': 'https://www.airbnb.com/users/show/1282196',\n",
            "           'host_verifications': ['email', 'phone', 'facebook']},\n",
            "  'house_rules': 'I just hope the guests treat the space as they´re own, with '\n",
            "                 'respect to it as well as to my neighbours! Espero apenas que '\n",
            "                 'os hóspedes tratem o lugar com carinho e respeito aos '\n",
            "                 'vizinhos!',\n",
            "  'images': {'medium_url': '',\n",
            "             'picture_url': 'https://a0.muscache.com/im/pictures/5b408b9e-45da-4808-be65-4edc1f29c453.jpg?aki_policy=large',\n",
            "             'thumbnail_url': '',\n",
            "             'xl_picture_url': ''},\n",
            "  'interaction': 'I´ll be happy to help you with any doubts, tips or any other '\n",
            "                 'information needed during your stay.',\n",
            "  'last_scraped': datetime.datetime(2019, 2, 11, 5, 0),\n",
            "  'listing_url': 'https://www.airbnb.com/rooms/10009999',\n",
            "  'maximum_nights': '1125',\n",
            "  'minimum_nights': '2',\n",
            "  'monthly_price': Decimal128('4849.00'),\n",
            "  'name': 'Horto flat with small garden',\n",
            "  'neighborhood_overview': 'This charming ground floor flat is located in '\n",
            "                           'Horto, a quiet and bucolic neighborhood just next '\n",
            "                           'to the Botanical Garden, where most of the '\n",
            "                           'descendants of it´s first gardeners still live. '\n",
            "                           'You´ll be 30 minutes walk from waterfalls in the '\n",
            "                           'rainforest with easy hiking trails! There are nice '\n",
            "                           'bars and restaurants as well as basic facilities - '\n",
            "                           'pharmacy, bakery, small market - in the area.',\n",
            "  'notes': 'There´s a table in the living room now, that does not show in the '\n",
            "           'photos.',\n",
            "  'number_of_reviews': 0,\n",
            "  'price': Decimal128('317.00'),\n",
            "  'property_type': 'Apartment',\n",
            "  'review_scores': {},\n",
            "  'reviews': [],\n",
            "  'room_type': 'Entire home/apt',\n",
            "  'space': 'Lovely one bedroom + sofa-bed in the living room, perfect for two '\n",
            "           'but fits up to four comfortably.  There´s a small outside garden '\n",
            "           'with a shower There´s a well equipped open kitchen with both 110V '\n",
            "           '/ 220V wall plugs and one bathroom with shower, tub and even a '\n",
            "           'sauna machine! All newly refurbished!',\n",
            "  'summary': 'One bedroom + sofa-bed in quiet and bucolic neighbourhood right '\n",
            "             'next to the Botanical Garden. Small garden, outside shower, well '\n",
            "             'equipped kitchen and bathroom with shower and tub. Easy for '\n",
            "             'transport with many restaurants and basic facilities in the '\n",
            "             'area.',\n",
            "  'transit': 'Easy access to transport (bus, taxi, car) and easy free parking '\n",
            "             'around. Very close to Gávea, Leblon, Ipanema, Copacabana and '\n",
            "             'Botafogo.',\n",
            "  'weekly_price': Decimal128('1492.00')}]\n"
          ],
          "output_type" : "stream"
        }
      ]
    }
  ]
}