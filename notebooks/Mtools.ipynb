{
  "metadata" : {
    "config" : {
      "dependencies" : {
        
      },
      "exclusions" : [
      ],
      "repositories" : [
      ],
      "env" : {
        
      }
    },
    "language_info" : {
      "name" : "scala"
    }
  },
  "nbformat" : 4,
  "nbformat_minor" : 0,
  "cells" : [
    {
      "cell_type" : "markdown",
      "execution_count" : 0,
      "metadata" : {
        "language" : "text"
      },
      "language" : "text",
      "source" : [
        "# Mtools\n",
        "\n",
        "#### Consultas con full scan\n",
        "\n",
        "`cat mongodb | mlogfilter --planSummary COLLSCAN >> result.txt`<br>\n",
        "\n",
        "#### Consultas lentas\n",
        "\n",
        "`mloginfo mongodb --queries >> stats.txt &  `<br>\n",
        "\n",
        "#### Candidatas de collection scan\n",
        "\n",
        "`cat mongodb | mlogfilter --scan >> result.txt`<br>\n",
        "\n",
        "<br>\n",
        "\n",
        "<br>\n",
        "\n",
        "\n"
      ],
      "outputs" : [
      ]
    }
  ]
}